{
 "cells": [
  {
   "cell_type": "markdown",
   "metadata": {},
   "source": [
    "# OCEAN to MBTI\n"
   ]
  },
  {
   "cell_type": "markdown",
   "metadata": {},
   "source": [
    "## Correlation matrix\n",
    "[Статья](https://reunir.unir.net/bitstream/handle/123456789/9799/ijimai20142_7_4_pdf_92105.pdf?sequence=1&isAllowed=y)\n",
    "\n",
    "| | Extraversion | Openness | Agreeableness | Conscientiousness | Neuroticism |\n",
    "| --- | ------------ | -------- | ------------- | ----------------- | ----------- |\n",
    "| E-I | -0.74 | 0.03 | -0.03 | 0.08 | 0.16 |\n",
    "| S-N | 0.10 | 0.72 | 0.04 | -0.15 | -0.06 |\n",
    "| T-F | 0.19 | 0.02 | 0.44 | -0.15 | 0.06 |\n",
    "| J-P | 0.15 | 0.30 | -0.06 | -0.49 | 0.11 |"
   ]
  },
  {
   "cell_type": "code",
   "execution_count": null,
   "metadata": {},
   "outputs": [],
   "source": [
    "import numpy as np\n",
    "import pandas as pd"
   ]
  },
  {
   "cell_type": "code",
   "execution_count": null,
   "metadata": {},
   "outputs": [],
   "source": [
    "correlation_matrix = pd.DataFrame({\n",
    "    \"E-I\": np.array([-0.74, 0.03, -0.03, 0.08, 0.16]),\n",
    "    \"S-N\": np.array([0.10, 0.72, 0.04, -0.15, -0.06]),\n",
    "    \"T-F\": np.array([0.19, 0.02, 0.44, -0.15, 0.06]),\n",
    "    \"J-P\": np.array([0.15, 0.30, -0.06, -0.49, 0.11]),\n",
    "}, index = ['Extraversion', 'Openness', 'Agreeableness', 'Conscientiousness', 'Neuroticism'])"
   ]
  },
  {
   "cell_type": "code",
   "execution_count": null,
   "metadata": {},
   "outputs": [],
   "source": [
    "correlation_matrix.T"
   ]
  },
  {
   "cell_type": "code",
   "execution_count": null,
   "metadata": {},
   "outputs": [],
   "source": [
    "def ocean_to_mbti(ocean_vector):\n",
    "    \"\"\"\n",
    "    Конвертирует OCEAN-представление в MBTI на основе корреляционной матрицы.\n",
    "    :param ocean_vector: np.array с пятью значениями OCEAN в порядке [E, O, A, C, N]. Значение от 0 до 1 (степень выраженности черты)\n",
    "    :return: строка с типом MBTI\n",
    "    \"\"\"\n",
    "    mbti_vector = {}\n",
    "    \n",
    "    # Рассчитываем значение каждой шкалы MBTI\n",
    "    for scale, weights in correlation_matrix.items():\n",
    "        mbti_vector[scale] = np.dot(ocean_vector, weights)\n",
    "    \n",
    "    mbti_type = (\n",
    "        \"E\" if mbti_vector[\"E-I\"] > 0.5 else \"I\",\n",
    "        \"N\" if mbti_vector[\"S-N\"] > 0.5 else \"S\",\n",
    "        \"F\" if mbti_vector[\"T-F\"] > 0.5 else \"T\",\n",
    "        \"P\" if mbti_vector[\"J-P\"] > 0.5 else \"J\",\n",
    "    )\n",
    "    \n",
    "    return \"\".join(mbti_type)"
   ]
  },
  {
   "cell_type": "code",
   "execution_count": null,
   "metadata": {},
   "outputs": [],
   "source": [
    "ocean_vector = np.array([0.6, 0.7, 0.2, 0.1, 0.3])\n",
    "mbti_type = ocean_to_mbti(ocean_vector)\n",
    "print(\"Тип личности MBTI:\", mbti_type)"
   ]
  },
  {
   "cell_type": "code",
   "execution_count": 22,
   "metadata": {},
   "outputs": [],
   "source": [
    "import pickle\n",
    "import pandas as pd\n",
    "import numpy as np\n",
    "import os\n",
    "import numpy as np\n",
    "from sklearn.metrics.pairwise import cosine_similarity\n",
    "import matplotlib.pyplot as plt\n",
    "from itertools import product"
   ]
  },
  {
   "cell_type": "code",
   "execution_count": 23,
   "metadata": {},
   "outputs": [],
   "source": [
    "candidates_video_emb = []\n",
    "for i in os.listdir('data/validation/video_embeddings/'):\n",
    "    emb = np.load(f'data/validation/video_embeddings/{i}')\n",
    "    candidates_video_emb.append(emb[0])\n",
    "candidates_video_emb = np.array(candidates_video_emb)\n",
    "\n",
    "candidates_text_emb = []\n",
    "for i in os.listdir('data/validation/text_embeddings/'):\n",
    "    emb = np.load(f'data/validation/text_embeddings/{i}')\n",
    "    candidates_text_emb.append(emb)\n",
    "candidates_text_emb = np.array(candidates_text_emb)\n",
    "\n",
    "vacancies_emb = []\n",
    "for i in os.listdir('data/embeddings/vacancies/embeddings'):\n",
    "    emb = np.load(f'data/embeddings/vacancies/embeddings/{i}')\n",
    "    vacancies_emb.append(emb)\n",
    "vacancies_emb = np.array(vacancies_emb)\n",
    "\n",
    "types_emb = np.load('data/embeddings/OCEAN_embeddings.npy')\n",
    "\n",
    "vacancies_data = pd.read_csv('data/tables/vacancies.csv')\n",
    "types_data = pd.read_csv('data/tables/personality.csv')\n",
    "with open('data/train/transcription.pkl', 'rb') as file:\n",
    "    candidates_data = pickle.load(file)\n",
    "\n",
    "with open('data/test_submit.pkl', 'rb') as file:\n",
    "    submit_data = pickle.load(file)"
   ]
  },
  {
   "cell_type": "code",
   "execution_count": 29,
   "metadata": {},
   "outputs": [
    {
     "data": {
      "text/html": [
       "<div>\n",
       "<style scoped>\n",
       "    .dataframe tbody tr th:only-of-type {\n",
       "        vertical-align: middle;\n",
       "    }\n",
       "\n",
       "    .dataframe tbody tr th {\n",
       "        vertical-align: top;\n",
       "    }\n",
       "\n",
       "    .dataframe thead th {\n",
       "        text-align: right;\n",
       "    }\n",
       "</style>\n",
       "<table border=\"1\" class=\"dataframe\">\n",
       "  <thead>\n",
       "    <tr style=\"text-align: right;\">\n",
       "      <th></th>\n",
       "      <th>name</th>\n",
       "      <th>description</th>\n",
       "      <th>salary</th>\n",
       "      <th>skill</th>\n",
       "      <th>embedding_id</th>\n",
       "    </tr>\n",
       "  </thead>\n",
       "  <tbody>\n",
       "    <tr>\n",
       "      <th>0</th>\n",
       "      <td>Flutter Developer</td>\n",
       "      <td>We are looking for hire experts flutter develo...</td>\n",
       "      <td>73091,34050</td>\n",
       "      <td>NaN</td>\n",
       "      <td>NaN</td>\n",
       "    </tr>\n",
       "    <tr>\n",
       "      <th>1</th>\n",
       "      <td>Django Developer</td>\n",
       "      <td>PYTHON/DJANGO (Developer/Lead) - Job Code(PDJ ...</td>\n",
       "      <td>57798,25463</td>\n",
       "      <td>NaN</td>\n",
       "      <td>NaN</td>\n",
       "    </tr>\n",
       "    <tr>\n",
       "      <th>2</th>\n",
       "      <td>Machine Learning</td>\n",
       "      <td>Data Scientist (Contractor)\\n\\nBangalore, IN\\n...</td>\n",
       "      <td>36135,52345</td>\n",
       "      <td>NaN</td>\n",
       "      <td>NaN</td>\n",
       "    </tr>\n",
       "    <tr>\n",
       "      <th>3</th>\n",
       "      <td>iOS Developer</td>\n",
       "      <td>JOB DESCRIPTION:\\n\\nStrong framework outside o...</td>\n",
       "      <td>84821,64731</td>\n",
       "      <td>NaN</td>\n",
       "      <td>NaN</td>\n",
       "    </tr>\n",
       "    <tr>\n",
       "      <th>4</th>\n",
       "      <td>Full Stack Developer</td>\n",
       "      <td>job responsibility full stack engineer – react...</td>\n",
       "      <td>15427,50861</td>\n",
       "      <td>NaN</td>\n",
       "      <td>NaN</td>\n",
       "    </tr>\n",
       "    <tr>\n",
       "      <th>...</th>\n",
       "      <td>...</td>\n",
       "      <td>...</td>\n",
       "      <td>...</td>\n",
       "      <td>...</td>\n",
       "      <td>...</td>\n",
       "    </tr>\n",
       "    <tr>\n",
       "      <th>2272</th>\n",
       "      <td>Backend Developer</td>\n",
       "      <td>Job Summary\\nPublished on : 26 days ago\\nVacan...</td>\n",
       "      <td>14192,45557</td>\n",
       "      <td>NaN</td>\n",
       "      <td>NaN</td>\n",
       "    </tr>\n",
       "    <tr>\n",
       "      <th>2273</th>\n",
       "      <td>Full Stack Developer</td>\n",
       "      <td>business entity cisco umbrella focus cloud-bas...</td>\n",
       "      <td>19966,87595</td>\n",
       "      <td>NaN</td>\n",
       "      <td>NaN</td>\n",
       "    </tr>\n",
       "    <tr>\n",
       "      <th>2274</th>\n",
       "      <td>Network Administrator</td>\n",
       "      <td>Urgently reqd in a college in Mohali\\nNetwork ...</td>\n",
       "      <td>31927,40154</td>\n",
       "      <td>NaN</td>\n",
       "      <td>NaN</td>\n",
       "    </tr>\n",
       "    <tr>\n",
       "      <th>2275</th>\n",
       "      <td>Machine Learning</td>\n",
       "      <td>Key Responsibilities: Team leads for small or ...</td>\n",
       "      <td>16280,73342</td>\n",
       "      <td>NaN</td>\n",
       "      <td>NaN</td>\n",
       "    </tr>\n",
       "    <tr>\n",
       "      <th>2276</th>\n",
       "      <td>Full Stack Developer</td>\n",
       "      <td>leslie hindman auctioneer one nation 's leadin...</td>\n",
       "      <td>23624,52594</td>\n",
       "      <td>NaN</td>\n",
       "      <td>NaN</td>\n",
       "    </tr>\n",
       "  </tbody>\n",
       "</table>\n",
       "<p>2277 rows × 5 columns</p>\n",
       "</div>"
      ],
      "text/plain": [
       "                       name  \\\n",
       "0         Flutter Developer   \n",
       "1          Django Developer   \n",
       "2          Machine Learning   \n",
       "3             iOS Developer   \n",
       "4      Full Stack Developer   \n",
       "...                     ...   \n",
       "2272      Backend Developer   \n",
       "2273   Full Stack Developer   \n",
       "2274  Network Administrator   \n",
       "2275       Machine Learning   \n",
       "2276   Full Stack Developer   \n",
       "\n",
       "                                            description       salary  skill  \\\n",
       "0     We are looking for hire experts flutter develo...  73091,34050    NaN   \n",
       "1     PYTHON/DJANGO (Developer/Lead) - Job Code(PDJ ...  57798,25463    NaN   \n",
       "2     Data Scientist (Contractor)\\n\\nBangalore, IN\\n...  36135,52345    NaN   \n",
       "3     JOB DESCRIPTION:\\n\\nStrong framework outside o...  84821,64731    NaN   \n",
       "4     job responsibility full stack engineer – react...  15427,50861    NaN   \n",
       "...                                                 ...          ...    ...   \n",
       "2272  Job Summary\\nPublished on : 26 days ago\\nVacan...  14192,45557    NaN   \n",
       "2273  business entity cisco umbrella focus cloud-bas...  19966,87595    NaN   \n",
       "2274  Urgently reqd in a college in Mohali\\nNetwork ...  31927,40154    NaN   \n",
       "2275  Key Responsibilities: Team leads for small or ...  16280,73342    NaN   \n",
       "2276  leslie hindman auctioneer one nation 's leadin...  23624,52594    NaN   \n",
       "\n",
       "      embedding_id  \n",
       "0              NaN  \n",
       "1              NaN  \n",
       "2              NaN  \n",
       "3              NaN  \n",
       "4              NaN  \n",
       "...            ...  \n",
       "2272           NaN  \n",
       "2273           NaN  \n",
       "2274           NaN  \n",
       "2275           NaN  \n",
       "2276           NaN  \n",
       "\n",
       "[2277 rows x 5 columns]"
      ]
     },
     "execution_count": 29,
     "metadata": {},
     "output_type": "execute_result"
    }
   ],
   "source": [
    "pd.read_csv('data/tables/vacancies.csv')"
   ]
  },
  {
   "cell_type": "code",
   "execution_count": 6,
   "metadata": {},
   "outputs": [],
   "source": [
    "candidates_video_emb_norm = candidates_video_emb / np.linalg.norm(candidates_video_emb, axis=1, keepdims=True)\n",
    "candidates_text_emb_norm = candidates_text_emb / np.linalg.norm(candidates_text_emb, axis=1, keepdims=True)\n",
    "types_emb_norm = types_emb / np.linalg.norm(types_emb, axis=1, keepdims=True)\n",
    "\n",
    "candidates_emb = (candidates_video_emb_norm + candidates_text_emb_norm) / 2\n",
    "similarity_matrix = cosine_similarity(candidates_emb, types_emb_norm)\n",
    "similarity_matrix = (similarity_matrix + 1) / 2"
   ]
  },
  {
   "cell_type": "code",
   "execution_count": 7,
   "metadata": {},
   "outputs": [
    {
     "data": {
      "text/plain": [
       "array([[0.56522655, 0.5220037 , 0.500856  , 0.51264745, 0.5527435 ],\n",
       "       [0.5313334 , 0.47418842, 0.5009375 , 0.48928064, 0.49509314],\n",
       "       [0.47933343, 0.46106046, 0.49067193, 0.47807848, 0.46027115],\n",
       "       ...,\n",
       "       [0.5267535 , 0.5058971 , 0.5730923 , 0.55395013, 0.50574464],\n",
       "       [0.52007735, 0.49479404, 0.5255972 , 0.5247809 , 0.5139392 ],\n",
       "       [0.6173902 , 0.5817775 , 0.57775104, 0.5792599 , 0.5918907 ]],\n",
       "      dtype=float32)"
      ]
     },
     "execution_count": 7,
     "metadata": {},
     "output_type": "execute_result"
    }
   ],
   "source": [
    "similarity_matrix"
   ]
  },
  {
   "cell_type": "code",
   "execution_count": 8,
   "metadata": {},
   "outputs": [
    {
     "data": {
      "text/plain": [
       "(0.4043529, 0.65945077)"
      ]
     },
     "execution_count": 8,
     "metadata": {},
     "output_type": "execute_result"
    }
   ],
   "source": [
    "similarity_matrix.min(), similarity_matrix.max()"
   ]
  },
  {
   "cell_type": "code",
   "execution_count": null,
   "metadata": {},
   "outputs": [
    {
     "data": {
      "text/plain": [
       "(array([409., 225.,  17.,  12.,  24., 182., 313., 261.,  32., 525.]),\n",
       " array([ 0. ,  3.1,  6.2,  9.3, 12.4, 15.5, 18.6, 21.7, 24.8, 27.9, 31. ]),\n",
       " <BarContainer object of 10 artists>)"
      ]
     },
     "execution_count": 21,
     "metadata": {},
     "output_type": "execute_result"
    },
    {
     "data": {
      "image/png": "[encoded data removed]",
      "text/plain": [
       "<Figure size 640x480 with 1 Axes>"
      ]
     },
     "metadata": {},
     "output_type": "display_data"
    }
   ],
   "source": [
    "all_combinations = list(product([0, 1], repeat=5))\n",
    "indices = np.arange(len(all_combinations))\n",
    "\n",
    "similarity_matrix = similarity_matrix > 0.5\n",
    "class_vector = []\n",
    "\n",
    "for i in range(len(similarity_matrix)):\n",
    "    for class_, j in enumerate(all_combinations):\n",
    "        if all(similarity_matrix[i] == j):\n",
    "            class_vector.append(class_)\n",
    "\n",
    "plt.hist(class_vector)"
   ]
  },
  {
   "cell_type": "code",
   "execution_count": null,
   "metadata": {},
   "outputs": [],
   "source": []
  }
 ],
 "metadata": {
  "kernelspec": {
   "display_name": "venv",
   "language": "python",
   "name": "python3"
  },
  "language_info": {
   "codemirror_mode": {
    "name": "ipython",
    "version": 3
   },
   "file_extension": ".py",
   "mimetype": "text/x-python",
   "name": "python",
   "nbconvert_exporter": "python",
   "pygments_lexer": "ipython3",
   "version": "3.10.12"
  }
 },
 "nbformat": 4,
 "nbformat_minor": 2
}
