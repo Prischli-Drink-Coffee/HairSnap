{
 "cells": [
  {
   "cell_type": "code",
   "execution_count": 17,
   "id": "00f0d834-c2d6-4c03-8a19-bc805e3cd31a",
   "metadata": {},
   "outputs": [
    {
     "name": "stdout",
     "output_type": "stream",
     "text": [
      "                                              url\n",
      "8000  ./data/embeddings/users/zxuPCshTSOs.000.npy\n",
      "8001  ./data/embeddings/users/zxuPCshTSOs.002.npy\n",
      "8002  ./data/embeddings/users/zxuPCshTSOs.005.npy\n",
      "8003  ./data/embeddings/users/zyGz_H1UTnQ.002.npy\n",
      "8004  ./data/embeddings/users/zyGz_H1UTnQ.003.npy\n",
      "8005  ./data/embeddings/users/zyGz_H1UTnQ.004.npy\n",
      "8006  ./data/embeddings/users/zyGz_H1UTnQ.005.npy\n",
      "8007            ./data/embeddings/vacancies/1.npy\n",
      "8008            ./data/embeddings/vacancies/2.npy\n",
      "8009            ./data/embeddings/vacancies/3.npy\n"
     ]
    }
   ],
   "source": [
    "import os\n",
    "import pandas as pd\n",
    "\n",
    "# Указываем базовую директорию и поддиректории для обработки\n",
    "base_directory = '../../data/embeddings'\n",
    "p = './data/embeddings'\n",
    "subdirectories = {\n",
    "    'personalities': 'numerical',  # числовая сортировка\n",
    "    'users': 'natural',            # естественная сортировка\n",
    "    'vacancies': 'numerical',\n",
    "}\n",
    "\n",
    "# Собираем пути ко всем файлам, сохраняя порядок в зависимости от поддиректории\n",
    "urls = []\n",
    "\n",
    "# Перебираем все поддиректории\n",
    "for subdirectory, sort_type in subdirectories.items():\n",
    "    # Полный путь к папке\n",
    "    full_path = os.path.join(base_directory, subdirectory)\n",
    "    \n",
    "    # Проверяем, существует ли директория\n",
    "    if not os.path.isdir(full_path):\n",
    "        print(f\"Warning: Directory {full_path} does not exist.\")\n",
    "        continue\n",
    "    \n",
    "    # Собираем список файлов в директории с учетом типа сортировки\n",
    "    files = os.listdir(full_path)\n",
    "    \n",
    "    # Если сортировка числовая, то сортируем по числовым значениям в названии\n",
    "    if sort_type == 'numerical':\n",
    "        files = sorted(files, key=lambda x: int(re.search(r'\\d+', x).group()) if re.search(r'\\d+', x) else 0)\n",
    "    # Если сортировка естественная, то сортируем как обычные строки\n",
    "    elif sort_type == 'natural':\n",
    "        files = sorted(files)\n",
    "\n",
    "    # Формируем URL для каждого файла и добавляем в список\n",
    "    for file in files:\n",
    "        file_url = os.path.join(p, subdirectory, file)\n",
    "        urls.append(file_url)\n",
    "\n",
    "# Создаем DataFrame с сохранением порядка\n",
    "embeddings_df = pd.DataFrame(urls, columns=['url'])\n",
    "\n",
    "# Выводим результат (пример, можно настроить по необходимости)\n",
    "print(embeddings_df[8000:8010])\n"
   ]
  },
  {
   "cell_type": "code",
   "execution_count": 23,
   "id": "e6d56a5e-0b14-46b4-9e9e-ec40e0802904",
   "metadata": {},
   "outputs": [
    {
     "data": {
      "text/html": [
       "<div>\n",
       "<style scoped>\n",
       "    .dataframe tbody tr th:only-of-type {\n",
       "        vertical-align: middle;\n",
       "    }\n",
       "\n",
       "    .dataframe tbody tr th {\n",
       "        vertical-align: top;\n",
       "    }\n",
       "\n",
       "    .dataframe thead th {\n",
       "        text-align: right;\n",
       "    }\n",
       "</style>\n",
       "<table border=\"1\" class=\"dataframe\">\n",
       "  <thead>\n",
       "    <tr style=\"text-align: right;\">\n",
       "      <th></th>\n",
       "      <th>url</th>\n",
       "    </tr>\n",
       "  </thead>\n",
       "  <tbody>\n",
       "    <tr>\n",
       "      <th>0</th>\n",
       "      <td>./data/embeddings/personalities/17.npy</td>\n",
       "    </tr>\n",
       "    <tr>\n",
       "      <th>1</th>\n",
       "      <td>./data/embeddings/personalities/18.npy</td>\n",
       "    </tr>\n",
       "    <tr>\n",
       "      <th>2</th>\n",
       "      <td>./data/embeddings/personalities/19.npy</td>\n",
       "    </tr>\n",
       "    <tr>\n",
       "      <th>3</th>\n",
       "      <td>./data/embeddings/personalities/20.npy</td>\n",
       "    </tr>\n",
       "    <tr>\n",
       "      <th>4</th>\n",
       "      <td>./data/embeddings/personalities/21.npy</td>\n",
       "    </tr>\n",
       "  </tbody>\n",
       "</table>\n",
       "</div>"
      ],
      "text/plain": [
       "                                      url\n",
       "0  ./data/embeddings/personalities/17.npy\n",
       "1  ./data/embeddings/personalities/18.npy\n",
       "2  ./data/embeddings/personalities/19.npy\n",
       "3  ./data/embeddings/personalities/20.npy\n",
       "4  ./data/embeddings/personalities/21.npy"
      ]
     },
     "execution_count": 23,
     "metadata": {},
     "output_type": "execute_result"
    }
   ],
   "source": [
    "# embeddings_df.drop(['Unnamed: 0'])\n",
    "embeddings_df.head()"
   ]
  },
  {
   "cell_type": "code",
   "execution_count": 21,
   "id": "76246cb7-7ff6-48fd-b2c3-dcfcbfbe6324",
   "metadata": {},
   "outputs": [],
   "source": [
    "embeddings_df.to_csv('../../data/tables/embeddings.csv')"
   ]
  },
  {
   "cell_type": "code",
   "execution_count": 16,
   "id": "a0b41ad4-362f-4e49-b309-4b43a4a4805c",
   "metadata": {},
   "outputs": [
    {
     "data": {
      "text/plain": [
       "10284"
      ]
     },
     "execution_count": 16,
     "metadata": {},
     "output_type": "execute_result"
    }
   ],
   "source": [
    "len(embeddings_df)"
   ]
  },
  {
   "cell_type": "code",
   "execution_count": null,
   "id": "1fb28235-8094-4767-90ba-6de9ad25d872",
   "metadata": {},
   "outputs": [],
   "source": []
  }
 ],
 "metadata": {
  "kernelspec": {
   "display_name": "Python 3 (ipykernel)",
   "language": "python",
   "name": "python3"
  },
  "language_info": {
   "codemirror_mode": {
    "name": "ipython",
    "version": 3
   },
   "file_extension": ".py",
   "mimetype": "text/x-python",
   "name": "python",
   "nbconvert_exporter": "python",
   "pygments_lexer": "ipython3",
   "version": "3.10.12"
  }
 },
 "nbformat": 4,
 "nbformat_minor": 5
}
