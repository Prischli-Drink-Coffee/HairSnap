{
 "cells": [
  {
   "cell_type": "markdown",
   "id": "401290b7-18a4-46ff-bd08-2aada9ccdcae",
   "metadata": {},
   "source": [
    "### Создаем синтетические данные для заполнения базы данных"
   ]
  },
  {
   "cell_type": "code",
   "execution_count": 55,
   "id": "c69ed174-8b77-44ce-8ee0-3e45d06301d8",
   "metadata": {},
   "outputs": [
    {
     "data": {
      "text/plain": [
       "'/home/user1/HireSnap/src/stuff'"
      ]
     },
     "execution_count": 55,
     "metadata": {},
     "output_type": "execute_result"
    }
   ],
   "source": [
    "import pandas as pd\n",
    "import os\n",
    "from faker import Faker\n",
    "from datetime import datetime\n",
    "import random\n",
    "os.getcwd()"
   ]
  },
  {
   "cell_type": "code",
   "execution_count": 56,
   "id": "4bf829ff-afab-417d-aef9-aa5d73ec1d49",
   "metadata": {},
   "outputs": [],
   "source": [
    "# Инициализация генератора данных с указанием локали для английского языка\n",
    "fake = Faker(\"en_US\")"
   ]
  },
  {
   "cell_type": "code",
   "execution_count": 57,
   "id": "de700ac5-5ada-43ad-86b7-3cd82d8151e1",
   "metadata": {},
   "outputs": [],
   "source": [
    "def custom_email():\n",
    "    domains = [\"gmail.com\", \"yahoo.com\", \"outlook.com\"]\n",
    "    return f\"{fake.first_name().lower()}.{fake.last_name().lower()}@{random.choice(domains)}\""
   ]
  },
  {
   "cell_type": "code",
   "execution_count": 58,
   "id": "1a49d1f9-d8da-45d4-9c79-2de4373dc0e9",
   "metadata": {},
   "outputs": [],
   "source": [
    "def custom_phone_number():\n",
    "    return f\"+1-{random.randint(100, 999)}-{random.randint(100, 999)}-{random.randint(1000, 9999)}\""
   ]
  },
  {
   "cell_type": "code",
   "execution_count": 59,
   "id": "7233f6c1-7609-4e34-baf5-ab20ccd5c4fd",
   "metadata": {},
   "outputs": [],
   "source": [
    "def custom_name():\n",
    "    return f\"{fake.first_name()} {fake.last_name()}\""
   ]
  },
  {
   "cell_type": "code",
   "execution_count": 60,
   "id": "dd3045b0-4d1a-4cbb-9c8e-3b2290d438d5",
   "metadata": {},
   "outputs": [],
   "source": [
    "# Количество пользователей\n",
    "num_users = 23999\n",
    "\n",
    "# Создание DataFrame с требуемыми значениями\n",
    "users_df = pd.DataFrame({\n",
    "    \"email\": [str(custom_email()) for _ in range(num_users)],\n",
    "    \"password\": [\"password\"] * num_users,\n",
    "    \"type\": [\"candidate\"] * num_users,\n",
    "    \"info_id\": [int(index + 1) for index, _ in enumerate(range(num_users))],\n",
    "    \"created_at\": [\"\"] * num_users,\n",
    "    \"role\": [\"user\"] * num_users\n",
    "})"
   ]
  },
  {
   "cell_type": "code",
   "execution_count": 61,
   "id": "3980fd47-985c-4652-97b8-604a700d7441",
   "metadata": {},
   "outputs": [
    {
     "data": {
      "text/html": [
       "<div>\n",
       "<style scoped>\n",
       "    .dataframe tbody tr th:only-of-type {\n",
       "        vertical-align: middle;\n",
       "    }\n",
       "\n",
       "    .dataframe tbody tr th {\n",
       "        vertical-align: top;\n",
       "    }\n",
       "\n",
       "    .dataframe thead th {\n",
       "        text-align: right;\n",
       "    }\n",
       "</style>\n",
       "<table border=\"1\" class=\"dataframe\">\n",
       "  <thead>\n",
       "    <tr style=\"text-align: right;\">\n",
       "      <th></th>\n",
       "      <th>email</th>\n",
       "      <th>password</th>\n",
       "      <th>type</th>\n",
       "      <th>info_id</th>\n",
       "      <th>created_at</th>\n",
       "      <th>role</th>\n",
       "    </tr>\n",
       "  </thead>\n",
       "  <tbody>\n",
       "    <tr>\n",
       "      <th>0</th>\n",
       "      <td>matthew.stanton@gmail.com</td>\n",
       "      <td>password</td>\n",
       "      <td>candidate</td>\n",
       "      <td>1</td>\n",
       "      <td></td>\n",
       "      <td>user</td>\n",
       "    </tr>\n",
       "    <tr>\n",
       "      <th>1</th>\n",
       "      <td>preston.jones@outlook.com</td>\n",
       "      <td>password</td>\n",
       "      <td>candidate</td>\n",
       "      <td>2</td>\n",
       "      <td></td>\n",
       "      <td>user</td>\n",
       "    </tr>\n",
       "    <tr>\n",
       "      <th>2</th>\n",
       "      <td>amber.solomon@yahoo.com</td>\n",
       "      <td>password</td>\n",
       "      <td>candidate</td>\n",
       "      <td>3</td>\n",
       "      <td></td>\n",
       "      <td>user</td>\n",
       "    </tr>\n",
       "    <tr>\n",
       "      <th>3</th>\n",
       "      <td>craig.boone@outlook.com</td>\n",
       "      <td>password</td>\n",
       "      <td>candidate</td>\n",
       "      <td>4</td>\n",
       "      <td></td>\n",
       "      <td>user</td>\n",
       "    </tr>\n",
       "    <tr>\n",
       "      <th>4</th>\n",
       "      <td>charles.rios@gmail.com</td>\n",
       "      <td>password</td>\n",
       "      <td>candidate</td>\n",
       "      <td>5</td>\n",
       "      <td></td>\n",
       "      <td>user</td>\n",
       "    </tr>\n",
       "  </tbody>\n",
       "</table>\n",
       "</div>"
      ],
      "text/plain": [
       "                       email  password       type  info_id created_at  role\n",
       "0  matthew.stanton@gmail.com  password  candidate        1             user\n",
       "1  preston.jones@outlook.com  password  candidate        2             user\n",
       "2    amber.solomon@yahoo.com  password  candidate        3             user\n",
       "3    craig.boone@outlook.com  password  candidate        4             user\n",
       "4     charles.rios@gmail.com  password  candidate        5             user"
      ]
     },
     "execution_count": 61,
     "metadata": {},
     "output_type": "execute_result"
    }
   ],
   "source": [
    "users_df.head()"
   ]
  },
  {
   "cell_type": "code",
   "execution_count": 62,
   "id": "b80bda7d-94a7-4c13-b808-dd15db21baa3",
   "metadata": {},
   "outputs": [],
   "source": [
    "users_df.to_csv('../../data/tables/users.csv')"
   ]
  },
  {
   "cell_type": "code",
   "execution_count": 63,
   "id": "2939dff8-4ccb-4927-b06a-09732b06fa18",
   "metadata": {},
   "outputs": [
    {
     "name": "stdout",
     "output_type": "stream",
     "text": [
      "Столбец 'Unnamed: 0' удален из файла embeddings.csv\n",
      "Столбец 'Unnamed: 0' удален из файла ocean.csv\n",
      "Столбец 'Unnamed: 0' удален из файла users.csv\n",
      "Столбец 'Unnamed: 0' удален из файла files.csv\n",
      "Столбец 'Unnamed: 0' удален из файла info_candidates.csv\n",
      "Столбец 'Unnamed: 0' удален из файла vacancies.csv\n"
     ]
    }
   ],
   "source": [
    "import os\n",
    "import pandas as pd\n",
    "\n",
    "def remove_column_from_csv(directory, column_name='Unnamed: 0'):\n",
    "    # Проходим по всем файлам в указанной директории\n",
    "    for filename in os.listdir(directory):\n",
    "        # Проверяем, что файл имеет расширение .csv\n",
    "        if filename.endswith('.csv'):\n",
    "            file_path = os.path.join(directory, filename)\n",
    "            \n",
    "            try:\n",
    "                # Чтение CSV файла в DataFrame\n",
    "                df = pd.read_csv(file_path)\n",
    "                \n",
    "                # Проверяем, существует ли столбец с нужным названием\n",
    "                if column_name in df.columns:\n",
    "                    # Удаляем столбец\n",
    "                    df = df.drop(columns=[column_name])\n",
    "                    # Сохраняем обновленный DataFrame обратно в CSV\n",
    "                    df.to_csv(file_path, index=False)\n",
    "                    print(f\"Столбец '{column_name}' удален из файла {filename}\")\n",
    "                else:\n",
    "                    print(f\"Столбец '{column_name}' не найден в файле {filename}\")\n",
    "            except Exception as e:\n",
    "                print(f\"Ошибка при обработке файла {filename}: {e}\")\n",
    "\n",
    "# Указываем путь к директории с CSV файлами\n",
    "directory_path = '../../data/tables'  # Замените на нужную директорию\n",
    "remove_column_from_csv(directory_path)"
   ]
  },
  {
   "cell_type": "code",
   "execution_count": null,
   "id": "72ec68ad-ed6d-447a-a6e4-0e104ab9f12b",
   "metadata": {},
   "outputs": [],
   "source": []
  }
 ],
 "metadata": {
  "kernelspec": {
   "display_name": "Python 3 (ipykernel)",
   "language": "python",
   "name": "python3"
  },
  "language_info": {
   "codemirror_mode": {
    "name": "ipython",
    "version": 3
   },
   "file_extension": ".py",
   "mimetype": "text/x-python",
   "name": "python",
   "nbconvert_exporter": "python",
   "pygments_lexer": "ipython3",
   "version": "3.10.12"
  }
 },
 "nbformat": 4,
 "nbformat_minor": 5
}
