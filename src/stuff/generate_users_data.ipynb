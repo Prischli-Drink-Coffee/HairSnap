{
 "cells": [
  {
   "cell_type": "markdown",
   "id": "401290b7-18a4-46ff-bd08-2aada9ccdcae",
   "metadata": {},
   "source": [
    "### Создаем синтетические данные для заполнения базы данных"
   ]
  },
  {
   "cell_type": "code",
   "execution_count": 31,
   "id": "c69ed174-8b77-44ce-8ee0-3e45d06301d8",
   "metadata": {},
   "outputs": [
    {
     "data": {
      "text/plain": [
       "'/home/user1/HireSnap/src/stuff'"
      ]
     },
     "execution_count": 31,
     "metadata": {},
     "output_type": "execute_result"
    }
   ],
   "source": [
    "import pandas as pd\n",
    "import os\n",
    "from faker import Faker\n",
    "from datetime import datetime\n",
    "import random\n",
    "os.getcwd()"
   ]
  },
  {
   "cell_type": "code",
   "execution_count": 17,
   "id": "4bf829ff-afab-417d-aef9-aa5d73ec1d49",
   "metadata": {},
   "outputs": [],
   "source": [
    "# Инициализация генератора данных с указанием локали для английского языка\n",
    "fake = Faker(\"en_US\")"
   ]
  },
  {
   "cell_type": "code",
   "execution_count": 18,
   "id": "de700ac5-5ada-43ad-86b7-3cd82d8151e1",
   "metadata": {},
   "outputs": [],
   "source": [
    "def custom_email():\n",
    "    domains = [\"gmail.com\", \"yahoo.com\", \"outlook.com\"]\n",
    "    return f\"{fake.first_name().lower()}.{fake.last_name().lower()}@{random.choice(domains)}\""
   ]
  },
  {
   "cell_type": "code",
   "execution_count": 19,
   "id": "1a49d1f9-d8da-45d4-9c79-2de4373dc0e9",
   "metadata": {},
   "outputs": [],
   "source": [
    "def custom_phone_number():\n",
    "    return f\"+1-{random.randint(100, 999)}-{random.randint(100, 999)}-{random.randint(1000, 9999)}\""
   ]
  },
  {
   "cell_type": "code",
   "execution_count": 20,
   "id": "7233f6c1-7609-4e34-baf5-ab20ccd5c4fd",
   "metadata": {},
   "outputs": [],
   "source": [
    "def custom_name():\n",
    "    return f\"{fake.first_name()} {fake.last_name()}\""
   ]
  },
  {
   "cell_type": "code",
   "execution_count": 36,
   "id": "dd3045b0-4d1a-4cbb-9c8e-3b2290d438d5",
   "metadata": {},
   "outputs": [],
   "source": [
    "# Количество пользователей\n",
    "num_users = 6000\n",
    "\n",
    "# Создание DataFrame с требуемыми значениями\n",
    "users_df = pd.DataFrame({\n",
    "    \"email\": [custom_email() for _ in range(num_users)],\n",
    "    \"password\": [\"password\"] * num_users,\n",
    "    \"type\": [\"candidate\"] * num_users,\n",
    "    \"info_id\": [index + 1 for index, _ in enumerate(range(num_users))],\n",
    "    \"created_at\": [None] * num_users,\n",
    "    \"role\": [\"user\"] * num_users\n",
    "})"
   ]
  },
  {
   "cell_type": "code",
   "execution_count": 37,
   "id": "3980fd47-985c-4652-97b8-604a700d7441",
   "metadata": {},
   "outputs": [
    {
     "data": {
      "text/html": [
       "<div>\n",
       "<style scoped>\n",
       "    .dataframe tbody tr th:only-of-type {\n",
       "        vertical-align: middle;\n",
       "    }\n",
       "\n",
       "    .dataframe tbody tr th {\n",
       "        vertical-align: top;\n",
       "    }\n",
       "\n",
       "    .dataframe thead th {\n",
       "        text-align: right;\n",
       "    }\n",
       "</style>\n",
       "<table border=\"1\" class=\"dataframe\">\n",
       "  <thead>\n",
       "    <tr style=\"text-align: right;\">\n",
       "      <th></th>\n",
       "      <th>email</th>\n",
       "      <th>password</th>\n",
       "      <th>type</th>\n",
       "      <th>info_id</th>\n",
       "      <th>created_at</th>\n",
       "      <th>role</th>\n",
       "    </tr>\n",
       "  </thead>\n",
       "  <tbody>\n",
       "    <tr>\n",
       "      <th>0</th>\n",
       "      <td>martha.phillips@yahoo.com</td>\n",
       "      <td>password</td>\n",
       "      <td>candidate</td>\n",
       "      <td>1</td>\n",
       "      <td>None</td>\n",
       "      <td>user</td>\n",
       "    </tr>\n",
       "    <tr>\n",
       "      <th>1</th>\n",
       "      <td>joshua.mosley@yahoo.com</td>\n",
       "      <td>password</td>\n",
       "      <td>candidate</td>\n",
       "      <td>2</td>\n",
       "      <td>None</td>\n",
       "      <td>user</td>\n",
       "    </tr>\n",
       "    <tr>\n",
       "      <th>2</th>\n",
       "      <td>john.moore@outlook.com</td>\n",
       "      <td>password</td>\n",
       "      <td>candidate</td>\n",
       "      <td>3</td>\n",
       "      <td>None</td>\n",
       "      <td>user</td>\n",
       "    </tr>\n",
       "    <tr>\n",
       "      <th>3</th>\n",
       "      <td>dana.turner@gmail.com</td>\n",
       "      <td>password</td>\n",
       "      <td>candidate</td>\n",
       "      <td>4</td>\n",
       "      <td>None</td>\n",
       "      <td>user</td>\n",
       "    </tr>\n",
       "    <tr>\n",
       "      <th>4</th>\n",
       "      <td>david.williams@outlook.com</td>\n",
       "      <td>password</td>\n",
       "      <td>candidate</td>\n",
       "      <td>5</td>\n",
       "      <td>None</td>\n",
       "      <td>user</td>\n",
       "    </tr>\n",
       "  </tbody>\n",
       "</table>\n",
       "</div>"
      ],
      "text/plain": [
       "                        email  password       type  info_id created_at  role\n",
       "0   martha.phillips@yahoo.com  password  candidate        1       None  user\n",
       "1     joshua.mosley@yahoo.com  password  candidate        2       None  user\n",
       "2      john.moore@outlook.com  password  candidate        3       None  user\n",
       "3       dana.turner@gmail.com  password  candidate        4       None  user\n",
       "4  david.williams@outlook.com  password  candidate        5       None  user"
      ]
     },
     "execution_count": 37,
     "metadata": {},
     "output_type": "execute_result"
    }
   ],
   "source": [
    "users_df.head()"
   ]
  },
  {
   "cell_type": "code",
   "execution_count": 38,
   "id": "b80bda7d-94a7-4c13-b808-dd15db21baa3",
   "metadata": {},
   "outputs": [],
   "source": [
    "users_df.to_csv('./users.csv')"
   ]
  }
 ],
 "metadata": {
  "kernelspec": {
   "display_name": "Python 3 (ipykernel)",
   "language": "python",
   "name": "python3"
  },
  "language_info": {
   "codemirror_mode": {
    "name": "ipython",
    "version": 3
   },
   "file_extension": ".py",
   "mimetype": "text/x-python",
   "name": "python",
   "nbconvert_exporter": "python",
   "pygments_lexer": "ipython3",
   "version": "3.10.12"
  }
 },
 "nbformat": 4,
 "nbformat_minor": 5
}
