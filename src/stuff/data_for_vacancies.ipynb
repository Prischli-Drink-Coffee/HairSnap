{
 "cells": [
  {
   "cell_type": "markdown",
   "id": "0e6e3dfb-2f39-4cce-973f-cb4211f12006",
   "metadata": {},
   "source": [
    "### Собираем данные для вакансий для базы данных"
   ]
  },
  {
   "cell_type": "code",
   "execution_count": 1,
   "id": "74da4df4-4b31-4f44-9ca9-eaab283a3e51",
   "metadata": {},
   "outputs": [],
   "source": [
    "import pandas as pd\n",
    "import os\n",
    "import random\n",
    "import sys"
   ]
  },
  {
   "cell_type": "code",
   "execution_count": 2,
   "id": "02e48366-9a50-4056-9fee-17e15bce5fb0",
   "metadata": {},
   "outputs": [],
   "source": [
    "path_to_vacancies = \"../../data/vacancies.csv\""
   ]
  },
  {
   "cell_type": "code",
   "execution_count": 3,
   "id": "a12b8bad-bbc1-4eca-bc20-12a7c8082944",
   "metadata": {},
   "outputs": [],
   "source": [
    "vacancies = pd.read_csv(path_to_vacancies)"
   ]
  },
  {
   "cell_type": "code",
   "execution_count": 4,
   "id": "b0974436-7428-4616-a99d-a22ce41d1115",
   "metadata": {},
   "outputs": [
    {
     "data": {
      "text/html": [
       "<div>\n",
       "<style scoped>\n",
       "    .dataframe tbody tr th:only-of-type {\n",
       "        vertical-align: middle;\n",
       "    }\n",
       "\n",
       "    .dataframe tbody tr th {\n",
       "        vertical-align: top;\n",
       "    }\n",
       "\n",
       "    .dataframe thead th {\n",
       "        text-align: right;\n",
       "    }\n",
       "</style>\n",
       "<table border=\"1\" class=\"dataframe\">\n",
       "  <thead>\n",
       "    <tr style=\"text-align: right;\">\n",
       "      <th></th>\n",
       "      <th>Job Title</th>\n",
       "      <th>Job Description</th>\n",
       "    </tr>\n",
       "  </thead>\n",
       "  <tbody>\n",
       "    <tr>\n",
       "      <th>0</th>\n",
       "      <td>Flutter Developer</td>\n",
       "      <td>We are looking for hire experts flutter develo...</td>\n",
       "    </tr>\n",
       "    <tr>\n",
       "      <th>1</th>\n",
       "      <td>Django Developer</td>\n",
       "      <td>PYTHON/DJANGO (Developer/Lead) - Job Code(PDJ ...</td>\n",
       "    </tr>\n",
       "    <tr>\n",
       "      <th>2</th>\n",
       "      <td>Machine Learning</td>\n",
       "      <td>Data Scientist (Contractor)\\n\\nBangalore, IN\\n...</td>\n",
       "    </tr>\n",
       "    <tr>\n",
       "      <th>3</th>\n",
       "      <td>iOS Developer</td>\n",
       "      <td>JOB DESCRIPTION:\\n\\nStrong framework outside o...</td>\n",
       "    </tr>\n",
       "    <tr>\n",
       "      <th>4</th>\n",
       "      <td>Full Stack Developer</td>\n",
       "      <td>job responsibility full stack engineer – react...</td>\n",
       "    </tr>\n",
       "  </tbody>\n",
       "</table>\n",
       "</div>"
      ],
      "text/plain": [
       "              Job Title                                    Job Description\n",
       "0     Flutter Developer  We are looking for hire experts flutter develo...\n",
       "1      Django Developer  PYTHON/DJANGO (Developer/Lead) - Job Code(PDJ ...\n",
       "2      Machine Learning  Data Scientist (Contractor)\\n\\nBangalore, IN\\n...\n",
       "3         iOS Developer  JOB DESCRIPTION:\\n\\nStrong framework outside o...\n",
       "4  Full Stack Developer  job responsibility full stack engineer – react..."
      ]
     },
     "execution_count": 4,
     "metadata": {},
     "output_type": "execute_result"
    }
   ],
   "source": [
    "vacancies.head()"
   ]
  },
  {
   "cell_type": "code",
   "execution_count": 5,
   "id": "f0de8a99-8081-45ad-8746-08546f32a304",
   "metadata": {},
   "outputs": [],
   "source": [
    "vacancies = vacancies.rename(columns={'Job Title': 'name', 'Job Description': 'description'})"
   ]
  },
  {
   "cell_type": "code",
   "execution_count": 6,
   "id": "572d4838-2b7f-42c2-ad41-1124a14f488a",
   "metadata": {},
   "outputs": [
    {
     "data": {
      "text/html": [
       "<div>\n",
       "<style scoped>\n",
       "    .dataframe tbody tr th:only-of-type {\n",
       "        vertical-align: middle;\n",
       "    }\n",
       "\n",
       "    .dataframe tbody tr th {\n",
       "        vertical-align: top;\n",
       "    }\n",
       "\n",
       "    .dataframe thead th {\n",
       "        text-align: right;\n",
       "    }\n",
       "</style>\n",
       "<table border=\"1\" class=\"dataframe\">\n",
       "  <thead>\n",
       "    <tr style=\"text-align: right;\">\n",
       "      <th></th>\n",
       "      <th>name</th>\n",
       "      <th>description</th>\n",
       "    </tr>\n",
       "  </thead>\n",
       "  <tbody>\n",
       "    <tr>\n",
       "      <th>0</th>\n",
       "      <td>Flutter Developer</td>\n",
       "      <td>We are looking for hire experts flutter develo...</td>\n",
       "    </tr>\n",
       "    <tr>\n",
       "      <th>1</th>\n",
       "      <td>Django Developer</td>\n",
       "      <td>PYTHON/DJANGO (Developer/Lead) - Job Code(PDJ ...</td>\n",
       "    </tr>\n",
       "    <tr>\n",
       "      <th>2</th>\n",
       "      <td>Machine Learning</td>\n",
       "      <td>Data Scientist (Contractor)\\n\\nBangalore, IN\\n...</td>\n",
       "    </tr>\n",
       "    <tr>\n",
       "      <th>3</th>\n",
       "      <td>iOS Developer</td>\n",
       "      <td>JOB DESCRIPTION:\\n\\nStrong framework outside o...</td>\n",
       "    </tr>\n",
       "    <tr>\n",
       "      <th>4</th>\n",
       "      <td>Full Stack Developer</td>\n",
       "      <td>job responsibility full stack engineer – react...</td>\n",
       "    </tr>\n",
       "  </tbody>\n",
       "</table>\n",
       "</div>"
      ],
      "text/plain": [
       "                   name                                        description\n",
       "0     Flutter Developer  We are looking for hire experts flutter develo...\n",
       "1      Django Developer  PYTHON/DJANGO (Developer/Lead) - Job Code(PDJ ...\n",
       "2      Machine Learning  Data Scientist (Contractor)\\n\\nBangalore, IN\\n...\n",
       "3         iOS Developer  JOB DESCRIPTION:\\n\\nStrong framework outside o...\n",
       "4  Full Stack Developer  job responsibility full stack engineer – react..."
      ]
     },
     "execution_count": 6,
     "metadata": {},
     "output_type": "execute_result"
    }
   ],
   "source": [
    "vacancies.head()"
   ]
  },
  {
   "cell_type": "code",
   "execution_count": 7,
   "id": "ef3a437f-6fea-4785-a38e-b97feebfc494",
   "metadata": {},
   "outputs": [],
   "source": [
    "vacancies['salary'] = [f\"{random.randint(8000, 90000)},{random.randint(8000, 90000)}\" for _ in range(len(vacancies))]"
   ]
  },
  {
   "cell_type": "code",
   "execution_count": 8,
   "id": "f9157e63-f13c-4995-898e-a24d935c8c8b",
   "metadata": {},
   "outputs": [
    {
     "data": {
      "text/html": [
       "<div>\n",
       "<style scoped>\n",
       "    .dataframe tbody tr th:only-of-type {\n",
       "        vertical-align: middle;\n",
       "    }\n",
       "\n",
       "    .dataframe tbody tr th {\n",
       "        vertical-align: top;\n",
       "    }\n",
       "\n",
       "    .dataframe thead th {\n",
       "        text-align: right;\n",
       "    }\n",
       "</style>\n",
       "<table border=\"1\" class=\"dataframe\">\n",
       "  <thead>\n",
       "    <tr style=\"text-align: right;\">\n",
       "      <th></th>\n",
       "      <th>name</th>\n",
       "      <th>description</th>\n",
       "      <th>salary</th>\n",
       "    </tr>\n",
       "  </thead>\n",
       "  <tbody>\n",
       "    <tr>\n",
       "      <th>0</th>\n",
       "      <td>Flutter Developer</td>\n",
       "      <td>We are looking for hire experts flutter develo...</td>\n",
       "      <td>73091,34050</td>\n",
       "    </tr>\n",
       "    <tr>\n",
       "      <th>1</th>\n",
       "      <td>Django Developer</td>\n",
       "      <td>PYTHON/DJANGO (Developer/Lead) - Job Code(PDJ ...</td>\n",
       "      <td>57798,25463</td>\n",
       "    </tr>\n",
       "    <tr>\n",
       "      <th>2</th>\n",
       "      <td>Machine Learning</td>\n",
       "      <td>Data Scientist (Contractor)\\n\\nBangalore, IN\\n...</td>\n",
       "      <td>36135,52345</td>\n",
       "    </tr>\n",
       "    <tr>\n",
       "      <th>3</th>\n",
       "      <td>iOS Developer</td>\n",
       "      <td>JOB DESCRIPTION:\\n\\nStrong framework outside o...</td>\n",
       "      <td>84821,64731</td>\n",
       "    </tr>\n",
       "    <tr>\n",
       "      <th>4</th>\n",
       "      <td>Full Stack Developer</td>\n",
       "      <td>job responsibility full stack engineer – react...</td>\n",
       "      <td>15427,50861</td>\n",
       "    </tr>\n",
       "  </tbody>\n",
       "</table>\n",
       "</div>"
      ],
      "text/plain": [
       "                   name                                        description  \\\n",
       "0     Flutter Developer  We are looking for hire experts flutter develo...   \n",
       "1      Django Developer  PYTHON/DJANGO (Developer/Lead) - Job Code(PDJ ...   \n",
       "2      Machine Learning  Data Scientist (Contractor)\\n\\nBangalore, IN\\n...   \n",
       "3         iOS Developer  JOB DESCRIPTION:\\n\\nStrong framework outside o...   \n",
       "4  Full Stack Developer  job responsibility full stack engineer – react...   \n",
       "\n",
       "        salary  \n",
       "0  73091,34050  \n",
       "1  57798,25463  \n",
       "2  36135,52345  \n",
       "3  84821,64731  \n",
       "4  15427,50861  "
      ]
     },
     "execution_count": 8,
     "metadata": {},
     "output_type": "execute_result"
    }
   ],
   "source": [
    "vacancies.head()"
   ]
  },
  {
   "cell_type": "code",
   "execution_count": 9,
   "id": "ada07c0f-d7c6-4273-a452-8d22cdce61c5",
   "metadata": {},
   "outputs": [],
   "source": [
    "vacancies['skill'] = [None] * len(vacancies)"
   ]
  },
  {
   "cell_type": "code",
   "execution_count": 10,
   "id": "237b377d-5cc1-4465-be1e-df02e30bb7ba",
   "metadata": {},
   "outputs": [
    {
     "data": {
      "text/html": [
       "<div>\n",
       "<style scoped>\n",
       "    .dataframe tbody tr th:only-of-type {\n",
       "        vertical-align: middle;\n",
       "    }\n",
       "\n",
       "    .dataframe tbody tr th {\n",
       "        vertical-align: top;\n",
       "    }\n",
       "\n",
       "    .dataframe thead th {\n",
       "        text-align: right;\n",
       "    }\n",
       "</style>\n",
       "<table border=\"1\" class=\"dataframe\">\n",
       "  <thead>\n",
       "    <tr style=\"text-align: right;\">\n",
       "      <th></th>\n",
       "      <th>name</th>\n",
       "      <th>description</th>\n",
       "      <th>salary</th>\n",
       "      <th>skill</th>\n",
       "    </tr>\n",
       "  </thead>\n",
       "  <tbody>\n",
       "    <tr>\n",
       "      <th>0</th>\n",
       "      <td>Flutter Developer</td>\n",
       "      <td>We are looking for hire experts flutter develo...</td>\n",
       "      <td>73091,34050</td>\n",
       "      <td>None</td>\n",
       "    </tr>\n",
       "    <tr>\n",
       "      <th>1</th>\n",
       "      <td>Django Developer</td>\n",
       "      <td>PYTHON/DJANGO (Developer/Lead) - Job Code(PDJ ...</td>\n",
       "      <td>57798,25463</td>\n",
       "      <td>None</td>\n",
       "    </tr>\n",
       "    <tr>\n",
       "      <th>2</th>\n",
       "      <td>Machine Learning</td>\n",
       "      <td>Data Scientist (Contractor)\\n\\nBangalore, IN\\n...</td>\n",
       "      <td>36135,52345</td>\n",
       "      <td>None</td>\n",
       "    </tr>\n",
       "    <tr>\n",
       "      <th>3</th>\n",
       "      <td>iOS Developer</td>\n",
       "      <td>JOB DESCRIPTION:\\n\\nStrong framework outside o...</td>\n",
       "      <td>84821,64731</td>\n",
       "      <td>None</td>\n",
       "    </tr>\n",
       "    <tr>\n",
       "      <th>4</th>\n",
       "      <td>Full Stack Developer</td>\n",
       "      <td>job responsibility full stack engineer – react...</td>\n",
       "      <td>15427,50861</td>\n",
       "      <td>None</td>\n",
       "    </tr>\n",
       "  </tbody>\n",
       "</table>\n",
       "</div>"
      ],
      "text/plain": [
       "                   name                                        description  \\\n",
       "0     Flutter Developer  We are looking for hire experts flutter develo...   \n",
       "1      Django Developer  PYTHON/DJANGO (Developer/Lead) - Job Code(PDJ ...   \n",
       "2      Machine Learning  Data Scientist (Contractor)\\n\\nBangalore, IN\\n...   \n",
       "3         iOS Developer  JOB DESCRIPTION:\\n\\nStrong framework outside o...   \n",
       "4  Full Stack Developer  job responsibility full stack engineer – react...   \n",
       "\n",
       "        salary skill  \n",
       "0  73091,34050  None  \n",
       "1  57798,25463  None  \n",
       "2  36135,52345  None  \n",
       "3  84821,64731  None  \n",
       "4  15427,50861  None  "
      ]
     },
     "execution_count": 10,
     "metadata": {},
     "output_type": "execute_result"
    }
   ],
   "source": [
    "vacancies.head()"
   ]
  },
  {
   "cell_type": "code",
   "execution_count": 11,
   "id": "37f3f6f8-188c-4180-bff2-7b5b69ec39fc",
   "metadata": {},
   "outputs": [],
   "source": [
    "path_vacancies_embedding = \"../../data/embeddings/vacancies/embeddings\""
   ]
  },
  {
   "cell_type": "code",
   "execution_count": 12,
   "id": "540beaa5-0e96-4561-a207-34340b248681",
   "metadata": {},
   "outputs": [],
   "source": [
    "path_to_embeddings = []\n",
    "ids = []\n",
    "for path_vac in os.listdir(path_vacancies_embedding):\n",
    "    full_path = f'./data/vacancies/embeddings/{path_vac}'\n",
    "    vac_id = int(path_vac[:-4])\n",
    "    ids.append(vac_id)\n",
    "    path_to_embeddings.append(full_path)"
   ]
  },
  {
   "cell_type": "code",
   "execution_count": 13,
   "id": "1c509c03-f903-4d54-9115-c2b0a8a70d47",
   "metadata": {},
   "outputs": [],
   "source": [
    "embeddings = pd.DataFrame({'id': ids, 'url': path_to_embeddings}).sort_values('id')"
   ]
  },
  {
   "cell_type": "code",
   "execution_count": 14,
   "id": "04673bb4-30d3-4550-b07c-cbdc78e1daca",
   "metadata": {},
   "outputs": [
    {
     "data": {
      "text/html": [
       "<div>\n",
       "<style scoped>\n",
       "    .dataframe tbody tr th:only-of-type {\n",
       "        vertical-align: middle;\n",
       "    }\n",
       "\n",
       "    .dataframe tbody tr th {\n",
       "        vertical-align: top;\n",
       "    }\n",
       "\n",
       "    .dataframe thead th {\n",
       "        text-align: right;\n",
       "    }\n",
       "</style>\n",
       "<table border=\"1\" class=\"dataframe\">\n",
       "  <thead>\n",
       "    <tr style=\"text-align: right;\">\n",
       "      <th></th>\n",
       "      <th>id</th>\n",
       "      <th>url</th>\n",
       "    </tr>\n",
       "  </thead>\n",
       "  <tbody>\n",
       "    <tr>\n",
       "      <th>686</th>\n",
       "      <td>0</td>\n",
       "      <td>./data/vacancies/embeddings/0.npy</td>\n",
       "    </tr>\n",
       "    <tr>\n",
       "      <th>1432</th>\n",
       "      <td>1</td>\n",
       "      <td>./data/vacancies/embeddings/1.npy</td>\n",
       "    </tr>\n",
       "    <tr>\n",
       "      <th>1959</th>\n",
       "      <td>2</td>\n",
       "      <td>./data/vacancies/embeddings/2.npy</td>\n",
       "    </tr>\n",
       "    <tr>\n",
       "      <th>41</th>\n",
       "      <td>3</td>\n",
       "      <td>./data/vacancies/embeddings/3.npy</td>\n",
       "    </tr>\n",
       "    <tr>\n",
       "      <th>951</th>\n",
       "      <td>4</td>\n",
       "      <td>./data/vacancies/embeddings/4.npy</td>\n",
       "    </tr>\n",
       "  </tbody>\n",
       "</table>\n",
       "</div>"
      ],
      "text/plain": [
       "      id                                url\n",
       "686    0  ./data/vacancies/embeddings/0.npy\n",
       "1432   1  ./data/vacancies/embeddings/1.npy\n",
       "1959   2  ./data/vacancies/embeddings/2.npy\n",
       "41     3  ./data/vacancies/embeddings/3.npy\n",
       "951    4  ./data/vacancies/embeddings/4.npy"
      ]
     },
     "execution_count": 14,
     "metadata": {},
     "output_type": "execute_result"
    }
   ],
   "source": [
    "embeddings.head()"
   ]
  },
  {
   "cell_type": "code",
   "execution_count": 15,
   "id": "b1ef6e79-362c-4ddc-b354-d3b5a2219c2b",
   "metadata": {},
   "outputs": [],
   "source": [
    "embeddings = embeddings.set_index('id')"
   ]
  },
  {
   "cell_type": "code",
   "execution_count": 16,
   "id": "da3410dc-c0d3-4ff2-bc11-6d4561c59535",
   "metadata": {},
   "outputs": [
    {
     "data": {
      "text/html": [
       "<div>\n",
       "<style scoped>\n",
       "    .dataframe tbody tr th:only-of-type {\n",
       "        vertical-align: middle;\n",
       "    }\n",
       "\n",
       "    .dataframe tbody tr th {\n",
       "        vertical-align: top;\n",
       "    }\n",
       "\n",
       "    .dataframe thead th {\n",
       "        text-align: right;\n",
       "    }\n",
       "</style>\n",
       "<table border=\"1\" class=\"dataframe\">\n",
       "  <thead>\n",
       "    <tr style=\"text-align: right;\">\n",
       "      <th></th>\n",
       "      <th>url</th>\n",
       "    </tr>\n",
       "    <tr>\n",
       "      <th>id</th>\n",
       "      <th></th>\n",
       "    </tr>\n",
       "  </thead>\n",
       "  <tbody>\n",
       "    <tr>\n",
       "      <th>0</th>\n",
       "      <td>./data/vacancies/embeddings/0.npy</td>\n",
       "    </tr>\n",
       "    <tr>\n",
       "      <th>1</th>\n",
       "      <td>./data/vacancies/embeddings/1.npy</td>\n",
       "    </tr>\n",
       "    <tr>\n",
       "      <th>2</th>\n",
       "      <td>./data/vacancies/embeddings/2.npy</td>\n",
       "    </tr>\n",
       "    <tr>\n",
       "      <th>3</th>\n",
       "      <td>./data/vacancies/embeddings/3.npy</td>\n",
       "    </tr>\n",
       "    <tr>\n",
       "      <th>4</th>\n",
       "      <td>./data/vacancies/embeddings/4.npy</td>\n",
       "    </tr>\n",
       "  </tbody>\n",
       "</table>\n",
       "</div>"
      ],
      "text/plain": [
       "                                  url\n",
       "id                                   \n",
       "0   ./data/vacancies/embeddings/0.npy\n",
       "1   ./data/vacancies/embeddings/1.npy\n",
       "2   ./data/vacancies/embeddings/2.npy\n",
       "3   ./data/vacancies/embeddings/3.npy\n",
       "4   ./data/vacancies/embeddings/4.npy"
      ]
     },
     "execution_count": 16,
     "metadata": {},
     "output_type": "execute_result"
    }
   ],
   "source": [
    "embeddings.head()"
   ]
  },
  {
   "cell_type": "code",
   "execution_count": 17,
   "id": "181417cd-6dc7-4ba5-83fd-c306de46b150",
   "metadata": {},
   "outputs": [],
   "source": [
    "embeddings.to_csv('./embeddings.csv')"
   ]
  },
  {
   "cell_type": "code",
   "execution_count": 18,
   "id": "8a2d128f-3a52-4628-8fd8-7f56c89236f2",
   "metadata": {},
   "outputs": [],
   "source": [
    "vacancies['embedding_id'] = [None] * len(vacancies)"
   ]
  },
  {
   "cell_type": "code",
   "execution_count": 19,
   "id": "f28467ee-54cf-41d5-bfb8-73a5d7493f6a",
   "metadata": {},
   "outputs": [
    {
     "data": {
      "text/html": [
       "<div>\n",
       "<style scoped>\n",
       "    .dataframe tbody tr th:only-of-type {\n",
       "        vertical-align: middle;\n",
       "    }\n",
       "\n",
       "    .dataframe tbody tr th {\n",
       "        vertical-align: top;\n",
       "    }\n",
       "\n",
       "    .dataframe thead th {\n",
       "        text-align: right;\n",
       "    }\n",
       "</style>\n",
       "<table border=\"1\" class=\"dataframe\">\n",
       "  <thead>\n",
       "    <tr style=\"text-align: right;\">\n",
       "      <th></th>\n",
       "      <th>name</th>\n",
       "      <th>description</th>\n",
       "      <th>salary</th>\n",
       "      <th>skill</th>\n",
       "      <th>embedding_id</th>\n",
       "    </tr>\n",
       "  </thead>\n",
       "  <tbody>\n",
       "    <tr>\n",
       "      <th>0</th>\n",
       "      <td>Flutter Developer</td>\n",
       "      <td>We are looking for hire experts flutter develo...</td>\n",
       "      <td>73091,34050</td>\n",
       "      <td>None</td>\n",
       "      <td>None</td>\n",
       "    </tr>\n",
       "    <tr>\n",
       "      <th>1</th>\n",
       "      <td>Django Developer</td>\n",
       "      <td>PYTHON/DJANGO (Developer/Lead) - Job Code(PDJ ...</td>\n",
       "      <td>57798,25463</td>\n",
       "      <td>None</td>\n",
       "      <td>None</td>\n",
       "    </tr>\n",
       "    <tr>\n",
       "      <th>2</th>\n",
       "      <td>Machine Learning</td>\n",
       "      <td>Data Scientist (Contractor)\\n\\nBangalore, IN\\n...</td>\n",
       "      <td>36135,52345</td>\n",
       "      <td>None</td>\n",
       "      <td>None</td>\n",
       "    </tr>\n",
       "    <tr>\n",
       "      <th>3</th>\n",
       "      <td>iOS Developer</td>\n",
       "      <td>JOB DESCRIPTION:\\n\\nStrong framework outside o...</td>\n",
       "      <td>84821,64731</td>\n",
       "      <td>None</td>\n",
       "      <td>None</td>\n",
       "    </tr>\n",
       "    <tr>\n",
       "      <th>4</th>\n",
       "      <td>Full Stack Developer</td>\n",
       "      <td>job responsibility full stack engineer – react...</td>\n",
       "      <td>15427,50861</td>\n",
       "      <td>None</td>\n",
       "      <td>None</td>\n",
       "    </tr>\n",
       "  </tbody>\n",
       "</table>\n",
       "</div>"
      ],
      "text/plain": [
       "                   name                                        description  \\\n",
       "0     Flutter Developer  We are looking for hire experts flutter develo...   \n",
       "1      Django Developer  PYTHON/DJANGO (Developer/Lead) - Job Code(PDJ ...   \n",
       "2      Machine Learning  Data Scientist (Contractor)\\n\\nBangalore, IN\\n...   \n",
       "3         iOS Developer  JOB DESCRIPTION:\\n\\nStrong framework outside o...   \n",
       "4  Full Stack Developer  job responsibility full stack engineer – react...   \n",
       "\n",
       "        salary skill embedding_id  \n",
       "0  73091,34050  None         None  \n",
       "1  57798,25463  None         None  \n",
       "2  36135,52345  None         None  \n",
       "3  84821,64731  None         None  \n",
       "4  15427,50861  None         None  "
      ]
     },
     "execution_count": 19,
     "metadata": {},
     "output_type": "execute_result"
    }
   ],
   "source": [
    "vacancies.head()"
   ]
  },
  {
   "cell_type": "code",
   "execution_count": 20,
   "id": "84e8fc55-df46-4f8f-ade4-f4bfe5fe1e8a",
   "metadata": {},
   "outputs": [],
   "source": [
    "vacancies.to_csv('./vacancies.csv')"
   ]
  },
  {
   "cell_type": "code",
   "execution_count": null,
   "id": "6eab2bbf-e4f9-47a9-bee5-94558fbe5639",
   "metadata": {},
   "outputs": [],
   "source": []
  }
 ],
 "metadata": {
  "kernelspec": {
   "display_name": "Python 3 (ipykernel)",
   "language": "python",
   "name": "python3"
  },
  "language_info": {
   "codemirror_mode": {
    "name": "ipython",
    "version": 3
   },
   "file_extension": ".py",
   "mimetype": "text/x-python",
   "name": "python",
   "nbconvert_exporter": "python",
   "pygments_lexer": "ipython3",
   "version": "3.10.12"
  }
 },
 "nbformat": 4,
 "nbformat_minor": 5
}
