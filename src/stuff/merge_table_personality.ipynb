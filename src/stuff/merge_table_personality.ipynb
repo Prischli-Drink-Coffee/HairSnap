{
 "cells": [
  {
   "cell_type": "markdown",
   "id": "407b7c7f-0415-4dd1-835b-62366ec6c8c2",
   "metadata": {},
   "source": [
    "#### Обьединяем таблицу mbti и таблицу ocean, для загрузки в базу данных"
   ]
  },
  {
   "cell_type": "code",
   "execution_count": 45,
   "id": "0e2af6fd-8437-47f1-9f62-539a6fa5b2c4",
   "metadata": {},
   "outputs": [],
   "source": [
    "import pandas as pd\n",
    "import os\n",
    "import sys"
   ]
  },
  {
   "cell_type": "code",
   "execution_count": 46,
   "id": "158de526-59c4-40a3-a16d-2a987044062d",
   "metadata": {},
   "outputs": [],
   "source": [
    "path_to_ocean = \"../../data/tables/ocean.csv\""
   ]
  },
  {
   "cell_type": "code",
   "execution_count": 47,
   "id": "c0b06228-662c-4bef-901f-d8b4c2fd2d5f",
   "metadata": {},
   "outputs": [],
   "source": [
    "ocean = pd.read_csv(path_to_ocean)"
   ]
  },
  {
   "cell_type": "code",
   "execution_count": 48,
   "id": "ed25d0e5-5c15-49f5-9f55-483283b9f234",
   "metadata": {},
   "outputs": [
    {
     "data": {
      "text/html": [
       "<div>\n",
       "<style scoped>\n",
       "    .dataframe tbody tr th:only-of-type {\n",
       "        vertical-align: middle;\n",
       "    }\n",
       "\n",
       "    .dataframe tbody tr th {\n",
       "        vertical-align: top;\n",
       "    }\n",
       "\n",
       "    .dataframe thead th {\n",
       "        text-align: right;\n",
       "    }\n",
       "</style>\n",
       "<table border=\"1\" class=\"dataframe\">\n",
       "  <thead>\n",
       "    <tr style=\"text-align: right;\">\n",
       "      <th></th>\n",
       "      <th>Unnamed: 0</th>\n",
       "      <th>name</th>\n",
       "      <th>description</th>\n",
       "    </tr>\n",
       "  </thead>\n",
       "  <tbody>\n",
       "    <tr>\n",
       "      <th>0</th>\n",
       "      <td>0</td>\n",
       "      <td>O</td>\n",
       "      <td>Openness to experience describes a person as c...</td>\n",
       "    </tr>\n",
       "    <tr>\n",
       "      <th>1</th>\n",
       "      <td>1</td>\n",
       "      <td>C</td>\n",
       "      <td>Conscientiousness characterizes a person as or...</td>\n",
       "    </tr>\n",
       "    <tr>\n",
       "      <th>2</th>\n",
       "      <td>2</td>\n",
       "      <td>E</td>\n",
       "      <td>Extraversion describes a person as active, soc...</td>\n",
       "    </tr>\n",
       "    <tr>\n",
       "      <th>3</th>\n",
       "      <td>3</td>\n",
       "      <td>A</td>\n",
       "      <td>Agreeableness characterizes a person as sensit...</td>\n",
       "    </tr>\n",
       "    <tr>\n",
       "      <th>4</th>\n",
       "      <td>4</td>\n",
       "      <td>N</td>\n",
       "      <td>Neuroticism reflects a person's tendency towar...</td>\n",
       "    </tr>\n",
       "  </tbody>\n",
       "</table>\n",
       "</div>"
      ],
      "text/plain": [
       "   Unnamed: 0 name                                        description\n",
       "0           0    O  Openness to experience describes a person as c...\n",
       "1           1    C  Conscientiousness characterizes a person as or...\n",
       "2           2    E  Extraversion describes a person as active, soc...\n",
       "3           3    A  Agreeableness characterizes a person as sensit...\n",
       "4           4    N  Neuroticism reflects a person's tendency towar..."
      ]
     },
     "execution_count": 48,
     "metadata": {},
     "output_type": "execute_result"
    }
   ],
   "source": [
    "ocean.head()"
   ]
  },
  {
   "cell_type": "code",
   "execution_count": 49,
   "id": "f64fab99-773e-413f-b249-d50c53e48927",
   "metadata": {},
   "outputs": [],
   "source": [
    "ocean = ocean.rename(columns={'Personality type': 'name', 'Description': 'description'})"
   ]
  },
  {
   "cell_type": "code",
   "execution_count": 50,
   "id": "84ac45b4-ecdd-4ac9-8e98-77cc8c495e2f",
   "metadata": {},
   "outputs": [
    {
     "data": {
      "text/html": [
       "<div>\n",
       "<style scoped>\n",
       "    .dataframe tbody tr th:only-of-type {\n",
       "        vertical-align: middle;\n",
       "    }\n",
       "\n",
       "    .dataframe tbody tr th {\n",
       "        vertical-align: top;\n",
       "    }\n",
       "\n",
       "    .dataframe thead th {\n",
       "        text-align: right;\n",
       "    }\n",
       "</style>\n",
       "<table border=\"1\" class=\"dataframe\">\n",
       "  <thead>\n",
       "    <tr style=\"text-align: right;\">\n",
       "      <th></th>\n",
       "      <th>Unnamed: 0</th>\n",
       "      <th>name</th>\n",
       "      <th>description</th>\n",
       "    </tr>\n",
       "  </thead>\n",
       "  <tbody>\n",
       "    <tr>\n",
       "      <th>0</th>\n",
       "      <td>0</td>\n",
       "      <td>O</td>\n",
       "      <td>Openness to experience describes a person as c...</td>\n",
       "    </tr>\n",
       "    <tr>\n",
       "      <th>1</th>\n",
       "      <td>1</td>\n",
       "      <td>C</td>\n",
       "      <td>Conscientiousness characterizes a person as or...</td>\n",
       "    </tr>\n",
       "    <tr>\n",
       "      <th>2</th>\n",
       "      <td>2</td>\n",
       "      <td>E</td>\n",
       "      <td>Extraversion describes a person as active, soc...</td>\n",
       "    </tr>\n",
       "    <tr>\n",
       "      <th>3</th>\n",
       "      <td>3</td>\n",
       "      <td>A</td>\n",
       "      <td>Agreeableness characterizes a person as sensit...</td>\n",
       "    </tr>\n",
       "    <tr>\n",
       "      <th>4</th>\n",
       "      <td>4</td>\n",
       "      <td>N</td>\n",
       "      <td>Neuroticism reflects a person's tendency towar...</td>\n",
       "    </tr>\n",
       "  </tbody>\n",
       "</table>\n",
       "</div>"
      ],
      "text/plain": [
       "   Unnamed: 0 name                                        description\n",
       "0           0    O  Openness to experience describes a person as c...\n",
       "1           1    C  Conscientiousness characterizes a person as or...\n",
       "2           2    E  Extraversion describes a person as active, soc...\n",
       "3           3    A  Agreeableness characterizes a person as sensit...\n",
       "4           4    N  Neuroticism reflects a person's tendency towar..."
      ]
     },
     "execution_count": 50,
     "metadata": {},
     "output_type": "execute_result"
    }
   ],
   "source": [
    "ocean.head()"
   ]
  },
  {
   "cell_type": "code",
   "execution_count": 51,
   "id": "6433acbd-1e9e-493f-950a-7a1c46be0728",
   "metadata": {},
   "outputs": [],
   "source": [
    "# Путь к директории с файлами embeddings\n",
    "path_to_embedding_users = '/home/user1/HireSnap/data/tables/embeddings.csv'\n",
    "# Получаем список всех файлов с расширением .npy\n",
    "embeddings = pd.read_csv(path_to_embedding_users)"
   ]
  },
  {
   "cell_type": "code",
   "execution_count": 52,
   "id": "6a176cba-aa6f-4da8-bf08-01d691379553",
   "metadata": {},
   "outputs": [
    {
     "data": {
      "text/html": [
       "<div>\n",
       "<style scoped>\n",
       "    .dataframe tbody tr th:only-of-type {\n",
       "        vertical-align: middle;\n",
       "    }\n",
       "\n",
       "    .dataframe tbody tr th {\n",
       "        vertical-align: top;\n",
       "    }\n",
       "\n",
       "    .dataframe thead th {\n",
       "        text-align: right;\n",
       "    }\n",
       "</style>\n",
       "<table border=\"1\" class=\"dataframe\">\n",
       "  <thead>\n",
       "    <tr style=\"text-align: right;\">\n",
       "      <th></th>\n",
       "      <th>Unnamed: 0</th>\n",
       "      <th>url</th>\n",
       "    </tr>\n",
       "  </thead>\n",
       "  <tbody>\n",
       "    <tr>\n",
       "      <th>0</th>\n",
       "      <td>0</td>\n",
       "      <td>./data/embeddings/personalities/17.npy</td>\n",
       "    </tr>\n",
       "    <tr>\n",
       "      <th>1</th>\n",
       "      <td>1</td>\n",
       "      <td>./data/embeddings/personalities/18.npy</td>\n",
       "    </tr>\n",
       "    <tr>\n",
       "      <th>2</th>\n",
       "      <td>2</td>\n",
       "      <td>./data/embeddings/personalities/19.npy</td>\n",
       "    </tr>\n",
       "    <tr>\n",
       "      <th>3</th>\n",
       "      <td>3</td>\n",
       "      <td>./data/embeddings/personalities/20.npy</td>\n",
       "    </tr>\n",
       "    <tr>\n",
       "      <th>4</th>\n",
       "      <td>4</td>\n",
       "      <td>./data/embeddings/personalities/21.npy</td>\n",
       "    </tr>\n",
       "  </tbody>\n",
       "</table>\n",
       "</div>"
      ],
      "text/plain": [
       "   Unnamed: 0                                     url\n",
       "0           0  ./data/embeddings/personalities/17.npy\n",
       "1           1  ./data/embeddings/personalities/18.npy\n",
       "2           2  ./data/embeddings/personalities/19.npy\n",
       "3           3  ./data/embeddings/personalities/20.npy\n",
       "4           4  ./data/embeddings/personalities/21.npy"
      ]
     },
     "execution_count": 52,
     "metadata": {},
     "output_type": "execute_result"
    }
   ],
   "source": [
    "embeddings.head()"
   ]
  },
  {
   "cell_type": "code",
   "execution_count": 53,
   "id": "f6b3d96c-1e23-49d7-be42-cae146034ee8",
   "metadata": {},
   "outputs": [],
   "source": [
    "ocean['embedding_id'] = embeddings['Unnamed: 0'][:5]"
   ]
  },
  {
   "cell_type": "code",
   "execution_count": 54,
   "id": "16e8eb86-4d7a-4e4b-b205-f30e3aab14f7",
   "metadata": {},
   "outputs": [],
   "source": [
    "ocean.to_csv('../../data/ocean.csv')"
   ]
  },
  {
   "cell_type": "code",
   "execution_count": 55,
   "id": "0ed5771d-9c8c-4c3c-babc-f9edb17d606f",
   "metadata": {},
   "outputs": [
    {
     "data": {
      "text/html": [
       "<div>\n",
       "<style scoped>\n",
       "    .dataframe tbody tr th:only-of-type {\n",
       "        vertical-align: middle;\n",
       "    }\n",
       "\n",
       "    .dataframe tbody tr th {\n",
       "        vertical-align: top;\n",
       "    }\n",
       "\n",
       "    .dataframe thead th {\n",
       "        text-align: right;\n",
       "    }\n",
       "</style>\n",
       "<table border=\"1\" class=\"dataframe\">\n",
       "  <thead>\n",
       "    <tr style=\"text-align: right;\">\n",
       "      <th></th>\n",
       "      <th>Unnamed: 0</th>\n",
       "      <th>name</th>\n",
       "      <th>description</th>\n",
       "      <th>embedding_id</th>\n",
       "    </tr>\n",
       "  </thead>\n",
       "  <tbody>\n",
       "    <tr>\n",
       "      <th>0</th>\n",
       "      <td>0</td>\n",
       "      <td>O</td>\n",
       "      <td>Openness to experience describes a person as c...</td>\n",
       "      <td>0</td>\n",
       "    </tr>\n",
       "    <tr>\n",
       "      <th>1</th>\n",
       "      <td>1</td>\n",
       "      <td>C</td>\n",
       "      <td>Conscientiousness characterizes a person as or...</td>\n",
       "      <td>1</td>\n",
       "    </tr>\n",
       "    <tr>\n",
       "      <th>2</th>\n",
       "      <td>2</td>\n",
       "      <td>E</td>\n",
       "      <td>Extraversion describes a person as active, soc...</td>\n",
       "      <td>2</td>\n",
       "    </tr>\n",
       "    <tr>\n",
       "      <th>3</th>\n",
       "      <td>3</td>\n",
       "      <td>A</td>\n",
       "      <td>Agreeableness characterizes a person as sensit...</td>\n",
       "      <td>3</td>\n",
       "    </tr>\n",
       "    <tr>\n",
       "      <th>4</th>\n",
       "      <td>4</td>\n",
       "      <td>N</td>\n",
       "      <td>Neuroticism reflects a person's tendency towar...</td>\n",
       "      <td>4</td>\n",
       "    </tr>\n",
       "  </tbody>\n",
       "</table>\n",
       "</div>"
      ],
      "text/plain": [
       "   Unnamed: 0 name                                        description  \\\n",
       "0           0    O  Openness to experience describes a person as c...   \n",
       "1           1    C  Conscientiousness characterizes a person as or...   \n",
       "2           2    E  Extraversion describes a person as active, soc...   \n",
       "3           3    A  Agreeableness characterizes a person as sensit...   \n",
       "4           4    N  Neuroticism reflects a person's tendency towar...   \n",
       "\n",
       "   embedding_id  \n",
       "0             0  \n",
       "1             1  \n",
       "2             2  \n",
       "3             3  \n",
       "4             4  "
      ]
     },
     "execution_count": 55,
     "metadata": {},
     "output_type": "execute_result"
    }
   ],
   "source": [
    "ocean.head()"
   ]
  },
  {
   "cell_type": "code",
   "execution_count": null,
   "id": "07b85c6d-83d5-4a46-853a-f4b792626747",
   "metadata": {},
   "outputs": [],
   "source": []
  }
 ],
 "metadata": {
  "kernelspec": {
   "display_name": "Python 3 (ipykernel)",
   "language": "python",
   "name": "python3"
  },
  "language_info": {
   "codemirror_mode": {
    "name": "ipython",
    "version": 3
   },
   "file_extension": ".py",
   "mimetype": "text/x-python",
   "name": "python",
   "nbconvert_exporter": "python",
   "pygments_lexer": "ipython3",
   "version": "3.10.12"
  }
 },
 "nbformat": 4,
 "nbformat_minor": 5
}
