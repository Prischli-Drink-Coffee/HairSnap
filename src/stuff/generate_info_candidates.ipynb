{
 "cells": [
  {
   "cell_type": "markdown",
   "id": "79734ced-81b3-4c6b-9ea8-62d68a86abb9",
   "metadata": {},
   "source": [
    "### Создаем синтетические данные для заполнения базы данных"
   ]
  },
  {
   "cell_type": "code",
   "execution_count": 48,
   "id": "4b87bc8a-b3c8-4377-b3dc-b39eee53d5b3",
   "metadata": {},
   "outputs": [
    {
     "data": {
      "text/plain": [
       "'/home/user1/HireSnap/src/stuff'"
      ]
     },
     "execution_count": 48,
     "metadata": {},
     "output_type": "execute_result"
    }
   ],
   "source": [
    "import pandas as pd\n",
    "import os\n",
    "from faker import Faker\n",
    "from datetime import datetime\n",
    "import random\n",
    "import pickle\n",
    "import numpy as np\n",
    "os.getcwd()"
   ]
  },
  {
   "cell_type": "code",
   "execution_count": 49,
   "id": "46b78e2e-5c0b-4477-8a14-c19e2ae55b48",
   "metadata": {},
   "outputs": [],
   "source": [
    "# Инициализация генератора данных с указанием локали для английского языка\n",
    "fake = Faker(\"en_US\")"
   ]
  },
  {
   "cell_type": "code",
   "execution_count": 50,
   "id": "d79c492c-8801-4380-b0ce-2ae28e80dd82",
   "metadata": {},
   "outputs": [],
   "source": [
    "def custom_phone_number():\n",
    "    return f\"+1-{random.randint(100, 999)}-{random.randint(100, 999)}-{random.randint(1000, 9999)}\""
   ]
  },
  {
   "cell_type": "code",
   "execution_count": 51,
   "id": "16e43cb9-3f42-4b85-8aa2-5b4c7365fa49",
   "metadata": {},
   "outputs": [],
   "source": [
    "def custom_name():\n",
    "    return f\"{fake.first_name()} {fake.last_name()}\""
   ]
  },
  {
   "cell_type": "code",
   "execution_count": 52,
   "id": "7283b4d9-9563-4004-b4d1-cd90f7a364f5",
   "metadata": {},
   "outputs": [
    {
     "data": {
      "text/plain": [
       "'/home/user1/HireSnap/data/embeddings'"
      ]
     },
     "execution_count": 52,
     "metadata": {},
     "output_type": "execute_result"
    }
   ],
   "source": [
    "path_to_embedding_users = os.path.join('/home/user1/HireSnap', 'data/embeddings')\n",
    "path_to_embedding_users"
   ]
  },
  {
   "cell_type": "code",
   "execution_count": 53,
   "id": "3f60d120-b541-403a-92f3-58b6a848bb49",
   "metadata": {},
   "outputs": [
    {
     "ename": "SyntaxError",
     "evalue": "expression expected after dictionary key and ':' (3309709746.py, line 10)",
     "output_type": "error",
     "traceback": [
      "\u001b[0;36m  Cell \u001b[0;32mIn[53], line 10\u001b[0;36m\u001b[0m\n\u001b[0;31m    \"file_id\": ,\u001b[0m\n\u001b[0m             ^\u001b[0m\n\u001b[0;31mSyntaxError\u001b[0m\u001b[0;31m:\u001b[0m expression expected after dictionary key and ':'\n"
     ]
    }
   ],
   "source": [
    "# Количество пользователей\n",
    "num_users = 6000\n",
    "\n",
    "# Создание DataFrame с требуемыми значениями\n",
    "info_candidates_df = pd.DataFrame({\n",
    "    \"name\": [custom_name() for _ in range(num_users)],\n",
    "    \"phone\": [custom_phone_number() for _ in range(num_users)],\n",
    "    \"gender\": [random.choice for _ in range(num_users)],\n",
    "    \"data_birth\": [None] * num_users,\n",
    "    \"file_id\": ,\n",
    "    \"embedding_id\": \n",
    "})"
   ]
  },
  {
   "cell_type": "code",
   "execution_count": 65,
   "id": "24589e0b-fe0b-4954-8c32-a0da284edce5",
   "metadata": {},
   "outputs": [],
   "source": [
    "path_train = os.path.join('/home/user1/HireSnap', 'data/train/video_embeddings/')\n",
    "path_valid = os.path.join('/home/user1/HireSnap', 'data/validation/video_embeddings/')"
   ]
  },
  {
   "cell_type": "code",
   "execution_count": 66,
   "id": "0603110a-6fa7-4ab8-823e-4bc1b0208d25",
   "metadata": {},
   "outputs": [],
   "source": [
    "path_to_embeddings_train = []\n",
    "ids = []\n",
    "for path_vac in os.listdir(path_train):\n",
    "    full_path = f'./data/train/video_embeddings/{path_vac}'\n",
    "    vac_id = path_vac[:-4]\n",
    "    ids.append(vac_id)\n",
    "    path_to_embeddings_train.append(full_path)"
   ]
  },
  {
   "cell_type": "code",
   "execution_count": 67,
   "id": "622d042f-e098-49a1-a0d9-080ded46fd95",
   "metadata": {},
   "outputs": [],
   "source": [
    "embeddings_train = pd.DataFrame({'id': ids, 'url': path_to_embeddings_train}).sort_values('id')"
   ]
  },
  {
   "cell_type": "code",
   "execution_count": 68,
   "id": "ec18bf02-9137-4034-ab01-922326c02427",
   "metadata": {},
   "outputs": [
    {
     "data": {
      "text/html": [
       "<div>\n",
       "<style scoped>\n",
       "    .dataframe tbody tr th:only-of-type {\n",
       "        vertical-align: middle;\n",
       "    }\n",
       "\n",
       "    .dataframe tbody tr th {\n",
       "        vertical-align: top;\n",
       "    }\n",
       "\n",
       "    .dataframe thead th {\n",
       "        text-align: right;\n",
       "    }\n",
       "</style>\n",
       "<table border=\"1\" class=\"dataframe\">\n",
       "  <thead>\n",
       "    <tr style=\"text-align: right;\">\n",
       "      <th></th>\n",
       "      <th>id</th>\n",
       "      <th>url</th>\n",
       "    </tr>\n",
       "  </thead>\n",
       "  <tbody>\n",
       "    <tr>\n",
       "      <th>1284</th>\n",
       "      <td>-55DRRMTppE.005</td>\n",
       "      <td>./data/train/video_embeddings/-55DRRMTppE.005.npy</td>\n",
       "    </tr>\n",
       "    <tr>\n",
       "      <th>71</th>\n",
       "      <td>-6otZ7M-Mro.001</td>\n",
       "      <td>./data/train/video_embeddings/-6otZ7M-Mro.001.npy</td>\n",
       "    </tr>\n",
       "    <tr>\n",
       "      <th>1032</th>\n",
       "      <td>-9BZ8A9U7TE.000</td>\n",
       "      <td>./data/train/video_embeddings/-9BZ8A9U7TE.000.npy</td>\n",
       "    </tr>\n",
       "    <tr>\n",
       "      <th>278</th>\n",
       "      <td>-9BZ8A9U7TE.004</td>\n",
       "      <td>./data/train/video_embeddings/-9BZ8A9U7TE.004.npy</td>\n",
       "    </tr>\n",
       "    <tr>\n",
       "      <th>1464</th>\n",
       "      <td>-AmMDnVl4s8.003</td>\n",
       "      <td>./data/train/video_embeddings/-AmMDnVl4s8.003.npy</td>\n",
       "    </tr>\n",
       "  </tbody>\n",
       "</table>\n",
       "</div>"
      ],
      "text/plain": [
       "                   id                                                url\n",
       "1284  -55DRRMTppE.005  ./data/train/video_embeddings/-55DRRMTppE.005.npy\n",
       "71    -6otZ7M-Mro.001  ./data/train/video_embeddings/-6otZ7M-Mro.001.npy\n",
       "1032  -9BZ8A9U7TE.000  ./data/train/video_embeddings/-9BZ8A9U7TE.000.npy\n",
       "278   -9BZ8A9U7TE.004  ./data/train/video_embeddings/-9BZ8A9U7TE.004.npy\n",
       "1464  -AmMDnVl4s8.003  ./data/train/video_embeddings/-AmMDnVl4s8.003.npy"
      ]
     },
     "execution_count": 68,
     "metadata": {},
     "output_type": "execute_result"
    }
   ],
   "source": [
    "embeddings_train.head()"
   ]
  },
  {
   "cell_type": "code",
   "execution_count": 73,
   "id": "3f6971e2-eae5-4d1c-8b2e-fdb3a0e8a6ba",
   "metadata": {},
   "outputs": [
    {
     "data": {
      "text/plain": [
       "1500"
      ]
     },
     "execution_count": 73,
     "metadata": {},
     "output_type": "execute_result"
    }
   ],
   "source": [
    "len(embeddings_train['id'])"
   ]
  },
  {
   "cell_type": "code",
   "execution_count": 69,
   "id": "4db3345e-836c-4a4e-99e9-b57ea88ee277",
   "metadata": {},
   "outputs": [],
   "source": [
    "path_to_embeddings_valid = []\n",
    "ids = []\n",
    "for path_vac in os.listdir(path_valid):\n",
    "    full_path = f'./data/validation/video_embeddings/{path_vac}'\n",
    "    vac_id = path_vac[:-4]\n",
    "    ids.append(vac_id)\n",
    "    path_to_embeddings_valid.append(full_path)"
   ]
  },
  {
   "cell_type": "code",
   "execution_count": 70,
   "id": "5dc8d631-aaa3-4459-974d-f51f9ef2f2ed",
   "metadata": {},
   "outputs": [],
   "source": [
    "embeddings_valid = pd.DataFrame({'id': ids, 'url': path_to_embeddings_valid}).sort_values('id')"
   ]
  },
  {
   "cell_type": "code",
   "execution_count": 71,
   "id": "017bfe97-f542-4a4e-b4ee-eafddf0d5e8b",
   "metadata": {},
   "outputs": [
    {
     "data": {
      "text/html": [
       "<div>\n",
       "<style scoped>\n",
       "    .dataframe tbody tr th:only-of-type {\n",
       "        vertical-align: middle;\n",
       "    }\n",
       "\n",
       "    .dataframe tbody tr th {\n",
       "        vertical-align: top;\n",
       "    }\n",
       "\n",
       "    .dataframe thead th {\n",
       "        text-align: right;\n",
       "    }\n",
       "</style>\n",
       "<table border=\"1\" class=\"dataframe\">\n",
       "  <thead>\n",
       "    <tr style=\"text-align: right;\">\n",
       "      <th></th>\n",
       "      <th>id</th>\n",
       "      <th>url</th>\n",
       "    </tr>\n",
       "  </thead>\n",
       "  <tbody>\n",
       "    <tr>\n",
       "      <th>226</th>\n",
       "      <td>-6otZ7M-Mro.005</td>\n",
       "      <td>./data/validation/video_embeddings/-6otZ7M-Mro...</td>\n",
       "    </tr>\n",
       "    <tr>\n",
       "      <th>326</th>\n",
       "      <td>-DOqN0d8KHw.000</td>\n",
       "      <td>./data/validation/video_embeddings/-DOqN0d8KHw...</td>\n",
       "    </tr>\n",
       "    <tr>\n",
       "      <th>25</th>\n",
       "      <td>-PF2TG2loGc.002</td>\n",
       "      <td>./data/validation/video_embeddings/-PF2TG2loGc...</td>\n",
       "    </tr>\n",
       "    <tr>\n",
       "      <th>145</th>\n",
       "      <td>-RhPxhfpg4U.004</td>\n",
       "      <td>./data/validation/video_embeddings/-RhPxhfpg4U...</td>\n",
       "    </tr>\n",
       "    <tr>\n",
       "      <th>48</th>\n",
       "      <td>-Wqk9eex6bQ.001</td>\n",
       "      <td>./data/validation/video_embeddings/-Wqk9eex6bQ...</td>\n",
       "    </tr>\n",
       "  </tbody>\n",
       "</table>\n",
       "</div>"
      ],
      "text/plain": [
       "                  id                                                url\n",
       "226  -6otZ7M-Mro.005  ./data/validation/video_embeddings/-6otZ7M-Mro...\n",
       "326  -DOqN0d8KHw.000  ./data/validation/video_embeddings/-DOqN0d8KHw...\n",
       "25   -PF2TG2loGc.002  ./data/validation/video_embeddings/-PF2TG2loGc...\n",
       "145  -RhPxhfpg4U.004  ./data/validation/video_embeddings/-RhPxhfpg4U...\n",
       "48   -Wqk9eex6bQ.001  ./data/validation/video_embeddings/-Wqk9eex6bQ..."
      ]
     },
     "execution_count": 71,
     "metadata": {},
     "output_type": "execute_result"
    }
   ],
   "source": [
    "embeddings_valid.head()"
   ]
  },
  {
   "cell_type": "code",
   "execution_count": 74,
   "id": "a6695b31-677e-434d-b604-f2f0e981fce3",
   "metadata": {},
   "outputs": [
    {
     "data": {
      "text/plain": [
       "500"
      ]
     },
     "execution_count": 74,
     "metadata": {},
     "output_type": "execute_result"
    }
   ],
   "source": [
    "len(embeddings_valid['id'])"
   ]
  },
  {
   "cell_type": "code",
   "execution_count": null,
   "id": "9ff7988d-4c1e-4c64-af6a-4bcd8eb6a93d",
   "metadata": {},
   "outputs": [],
   "source": []
  }
 ],
 "metadata": {
  "kernelspec": {
   "display_name": "Python 3 (ipykernel)",
   "language": "python",
   "name": "python3"
  },
  "language_info": {
   "codemirror_mode": {
    "name": "ipython",
    "version": 3
   },
   "file_extension": ".py",
   "mimetype": "text/x-python",
   "name": "python",
   "nbconvert_exporter": "python",
   "pygments_lexer": "ipython3",
   "version": "3.10.12"
  }
 },
 "nbformat": 4,
 "nbformat_minor": 5
}
