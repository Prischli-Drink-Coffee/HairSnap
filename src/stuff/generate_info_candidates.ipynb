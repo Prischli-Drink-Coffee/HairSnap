{
 "cells": [
  {
   "cell_type": "markdown",
   "id": "79734ced-81b3-4c6b-9ea8-62d68a86abb9",
   "metadata": {},
   "source": [
    "### Создаем синтетические данные для заполнения базы данных"
   ]
  },
  {
   "cell_type": "code",
   "execution_count": 1,
   "id": "4b87bc8a-b3c8-4377-b3dc-b39eee53d5b3",
   "metadata": {},
   "outputs": [
    {
     "data": {
      "text/plain": [
       "'/home/user1/HireSnap/src/stuff'"
      ]
     },
     "execution_count": 1,
     "metadata": {},
     "output_type": "execute_result"
    }
   ],
   "source": [
    "import pandas as pd\n",
    "import os\n",
    "from faker import Faker\n",
    "from datetime import datetime\n",
    "import random\n",
    "import pickle\n",
    "import numpy as np\n",
    "os.getcwd()"
   ]
  },
  {
   "cell_type": "code",
   "execution_count": 2,
   "id": "46b78e2e-5c0b-4477-8a14-c19e2ae55b48",
   "metadata": {},
   "outputs": [],
   "source": [
    "# Инициализация генератора данных с указанием локали для английского языка\n",
    "fake = Faker(\"en_US\")"
   ]
  },
  {
   "cell_type": "code",
   "execution_count": 3,
   "id": "d79c492c-8801-4380-b0ce-2ae28e80dd82",
   "metadata": {},
   "outputs": [],
   "source": [
    "def custom_phone_number():\n",
    "    return f\"+1-{random.randint(100, 999)}-{random.randint(100, 999)}-{random.randint(1000, 9999)}\""
   ]
  },
  {
   "cell_type": "code",
   "execution_count": 4,
   "id": "16e43cb9-3f42-4b85-8aa2-5b4c7365fa49",
   "metadata": {},
   "outputs": [],
   "source": [
    "def custom_name():\n",
    "    return f\"{fake.first_name()} {fake.last_name()}\""
   ]
  },
  {
   "cell_type": "code",
   "execution_count": 5,
   "id": "7283b4d9-9563-4004-b4d1-cd90f7a364f5",
   "metadata": {},
   "outputs": [
    {
     "data": {
      "text/plain": [
       "'/home/user1/HireSnap/data/embeddings'"
      ]
     },
     "execution_count": 5,
     "metadata": {},
     "output_type": "execute_result"
    }
   ],
   "source": [
    "path_to_embedding_users = os.path.join('/home/user1/HireSnap', 'data/embeddings')\n",
    "path_to_embedding_users"
   ]
  },
  {
   "cell_type": "code",
   "execution_count": 6,
   "id": "3f60d120-b541-403a-92f3-58b6a848bb49",
   "metadata": {},
   "outputs": [
    {
     "ename": "SyntaxError",
     "evalue": "expression expected after dictionary key and ':' (3309709746.py, line 10)",
     "output_type": "error",
     "traceback": [
      "\u001b[0;36m  Cell \u001b[0;32mIn[6], line 10\u001b[0;36m\u001b[0m\n\u001b[0;31m    \"file_id\": ,\u001b[0m\n\u001b[0m             ^\u001b[0m\n\u001b[0;31mSyntaxError\u001b[0m\u001b[0;31m:\u001b[0m expression expected after dictionary key and ':'\n"
     ]
    }
   ],
   "source": [
    "# Количество пользователей\n",
    "num_users = 6000\n",
    "\n",
    "# Создание DataFrame с требуемыми значениями\n",
    "info_candidates_df = pd.DataFrame({\n",
    "    \"name\": [custom_name() for _ in range(num_users)],\n",
    "    \"phone\": [custom_phone_number() for _ in range(num_users)],\n",
    "    \"gender\": [random.choice for _ in range(num_users)],\n",
    "    \"data_birth\": [None] * num_users,\n",
    "    \"file_id\": ,\n",
    "    \"embedding_id\": \n",
    "})"
   ]
  },
  {
   "cell_type": "code",
   "execution_count": null,
   "id": "24589e0b-fe0b-4954-8c32-a0da284edce5",
   "metadata": {},
   "outputs": [],
   "source": []
  },
  {
   "cell_type": "code",
   "execution_count": null,
   "id": "32114366-d7ef-4ea9-858a-eee991836374",
   "metadata": {},
   "outputs": [],
   "source": []
  }
 ],
 "metadata": {
  "kernelspec": {
   "display_name": "Python 3 (ipykernel)",
   "language": "python",
   "name": "python3"
  },
  "language_info": {
   "codemirror_mode": {
    "name": "ipython",
    "version": 3
   },
   "file_extension": ".py",
   "mimetype": "text/x-python",
   "name": "python",
   "nbconvert_exporter": "python",
   "pygments_lexer": "ipython3",
   "version": "3.10.12"
  }
 },
 "nbformat": 4,
 "nbformat_minor": 5
}
