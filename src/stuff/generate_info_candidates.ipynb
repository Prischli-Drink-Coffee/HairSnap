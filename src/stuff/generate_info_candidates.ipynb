{
 "cells": [
  {
   "cell_type": "markdown",
   "id": "79734ced-81b3-4c6b-9ea8-62d68a86abb9",
   "metadata": {},
   "source": [
    "### Создаем синтетические данные для заполнения базы данных"
   ]
  },
  {
   "cell_type": "code",
   "execution_count": 29,
   "id": "4b87bc8a-b3c8-4377-b3dc-b39eee53d5b3",
   "metadata": {},
   "outputs": [
    {
     "data": {
      "text/plain": [
       "'/home/user1/HireSnap/src/stuff'"
      ]
     },
     "execution_count": 29,
     "metadata": {},
     "output_type": "execute_result"
    }
   ],
   "source": [
    "import pandas as pd\n",
    "import os\n",
    "from faker import Faker\n",
    "from datetime import datetime\n",
    "import random\n",
    "import pickle\n",
    "import numpy as np\n",
    "os.getcwd()"
   ]
  },
  {
   "cell_type": "code",
   "execution_count": 30,
   "id": "46b78e2e-5c0b-4477-8a14-c19e2ae55b48",
   "metadata": {},
   "outputs": [],
   "source": [
    "# Инициализация генератора данных с указанием локали для английского языка\n",
    "fake = Faker(\"en_US\")"
   ]
  },
  {
   "cell_type": "code",
   "execution_count": 31,
   "id": "d79c492c-8801-4380-b0ce-2ae28e80dd82",
   "metadata": {},
   "outputs": [],
   "source": [
    "def custom_phone_number():\n",
    "    return f\"+1-{random.randint(100, 999)}-{random.randint(100, 999)}-{random.randint(1000, 9999)}\""
   ]
  },
  {
   "cell_type": "code",
   "execution_count": 32,
   "id": "16e43cb9-3f42-4b85-8aa2-5b4c7365fa49",
   "metadata": {},
   "outputs": [],
   "source": [
    "def custom_name():\n",
    "    return f\"{fake.first_name()} {fake.last_name()}\""
   ]
  },
  {
   "cell_type": "code",
   "execution_count": 33,
   "id": "46e136ab-4267-49fe-b08b-785166718149",
   "metadata": {},
   "outputs": [],
   "source": [
    "# Путь к директории с файлами embeddings\n",
    "path_to_embedding_users = '/home/user1/HireSnap/data/tables/embeddings.csv'"
   ]
  },
  {
   "cell_type": "code",
   "execution_count": 34,
   "id": "7283b4d9-9563-4004-b4d1-cd90f7a364f5",
   "metadata": {},
   "outputs": [],
   "source": [
    "# Получаем список всех файлов с расширением .npy\n",
    "embeddings = pd.read_csv(path_to_embedding_users)"
   ]
  },
  {
   "cell_type": "code",
   "execution_count": 35,
   "id": "8673c2d3-2b81-413f-8b16-f2c842b9d5be",
   "metadata": {},
   "outputs": [
    {
     "data": {
      "text/plain": [
       "10284"
      ]
     },
     "execution_count": 35,
     "metadata": {},
     "output_type": "execute_result"
    }
   ],
   "source": [
    "len(embeddings)"
   ]
  },
  {
   "cell_type": "code",
   "execution_count": 36,
   "id": "839a3ba3-2e61-4e7c-8504-aa2aced99b30",
   "metadata": {},
   "outputs": [
    {
     "data": {
      "text/html": [
       "<div>\n",
       "<style scoped>\n",
       "    .dataframe tbody tr th:only-of-type {\n",
       "        vertical-align: middle;\n",
       "    }\n",
       "\n",
       "    .dataframe tbody tr th {\n",
       "        vertical-align: top;\n",
       "    }\n",
       "\n",
       "    .dataframe thead th {\n",
       "        text-align: right;\n",
       "    }\n",
       "</style>\n",
       "<table border=\"1\" class=\"dataframe\">\n",
       "  <thead>\n",
       "    <tr style=\"text-align: right;\">\n",
       "      <th></th>\n",
       "      <th>url</th>\n",
       "    </tr>\n",
       "  </thead>\n",
       "  <tbody>\n",
       "    <tr>\n",
       "      <th>0</th>\n",
       "      <td>./data/embeddings/personalities/17.npy</td>\n",
       "    </tr>\n",
       "    <tr>\n",
       "      <th>1</th>\n",
       "      <td>./data/embeddings/personalities/18.npy</td>\n",
       "    </tr>\n",
       "    <tr>\n",
       "      <th>2</th>\n",
       "      <td>./data/embeddings/personalities/19.npy</td>\n",
       "    </tr>\n",
       "    <tr>\n",
       "      <th>3</th>\n",
       "      <td>./data/embeddings/personalities/20.npy</td>\n",
       "    </tr>\n",
       "    <tr>\n",
       "      <th>4</th>\n",
       "      <td>./data/embeddings/personalities/21.npy</td>\n",
       "    </tr>\n",
       "  </tbody>\n",
       "</table>\n",
       "</div>"
      ],
      "text/plain": [
       "                                      url\n",
       "0  ./data/embeddings/personalities/17.npy\n",
       "1  ./data/embeddings/personalities/18.npy\n",
       "2  ./data/embeddings/personalities/19.npy\n",
       "3  ./data/embeddings/personalities/20.npy\n",
       "4  ./data/embeddings/personalities/21.npy"
      ]
     },
     "execution_count": 36,
     "metadata": {},
     "output_type": "execute_result"
    }
   ],
   "source": [
    "embeddings.head()"
   ]
  },
  {
   "cell_type": "code",
   "execution_count": 37,
   "id": "9ff7988d-4c1e-4c64-af6a-4bcd8eb6a93d",
   "metadata": {},
   "outputs": [
    {
     "name": "stdout",
     "output_type": "stream",
     "text": [
      "              name            phone  gender  date_birth file_id embedding_id\n",
      "0      Linda Miles  +1-506-468-2639    Male  1961-10-11    None         None\n",
      "1  Victor Williams  +1-600-654-8395  Female  1999-03-25    None         None\n",
      "2   Susan Browning  +1-268-364-8480    Male  1960-10-23    None         None\n",
      "3      Jane Taylor  +1-141-414-1187    Male  1989-08-17    None         None\n",
      "4   Fernando Brock  +1-705-848-7321  Female  1976-06-22    None         None\n"
     ]
    }
   ],
   "source": [
    "num_users = 8000\n",
    "\n",
    "# Создание DataFrame с требуемыми значениями\n",
    "info_candidates_df = pd.DataFrame({\n",
    "    \"name\": [str(custom_name()) for _ in range(num_users)],\n",
    "    \"phone\": [str(custom_phone_number()) for _ in range(num_users)],\n",
    "    \"gender\": [str(random.choice([\"Male\", \"Female\"])) for _ in range(num_users)],  # Случайное значение для гендера\n",
    "    \"date_birth\": [f\"{fake.date_of_birth(minimum_age=18, maximum_age=65)}\" for _ in range(num_users)],  # Случайная дата рождения\n",
    "    \"file_id\": [None] * num_users,\n",
    "    \"embedding_id\": [None] * num_users\n",
    "})\n",
    "\n",
    "# Выводим первые несколько строк DataFrame для проверки\n",
    "print(info_candidates_df.head())"
   ]
  },
  {
   "cell_type": "code",
   "execution_count": 38,
   "id": "a8652298-a259-4997-b04b-1ea4951268e3",
   "metadata": {},
   "outputs": [
    {
     "data": {
      "text/html": [
       "<div>\n",
       "<style scoped>\n",
       "    .dataframe tbody tr th:only-of-type {\n",
       "        vertical-align: middle;\n",
       "    }\n",
       "\n",
       "    .dataframe tbody tr th {\n",
       "        vertical-align: top;\n",
       "    }\n",
       "\n",
       "    .dataframe thead th {\n",
       "        text-align: right;\n",
       "    }\n",
       "</style>\n",
       "<table border=\"1\" class=\"dataframe\">\n",
       "  <thead>\n",
       "    <tr style=\"text-align: right;\">\n",
       "      <th></th>\n",
       "      <th>name</th>\n",
       "      <th>phone</th>\n",
       "      <th>gender</th>\n",
       "      <th>date_birth</th>\n",
       "      <th>file_id</th>\n",
       "      <th>embedding_id</th>\n",
       "    </tr>\n",
       "  </thead>\n",
       "  <tbody>\n",
       "    <tr>\n",
       "      <th>0</th>\n",
       "      <td>Linda Miles</td>\n",
       "      <td>+1-506-468-2639</td>\n",
       "      <td>Male</td>\n",
       "      <td>1961-10-11</td>\n",
       "      <td>None</td>\n",
       "      <td>None</td>\n",
       "    </tr>\n",
       "    <tr>\n",
       "      <th>1</th>\n",
       "      <td>Victor Williams</td>\n",
       "      <td>+1-600-654-8395</td>\n",
       "      <td>Female</td>\n",
       "      <td>1999-03-25</td>\n",
       "      <td>None</td>\n",
       "      <td>None</td>\n",
       "    </tr>\n",
       "    <tr>\n",
       "      <th>2</th>\n",
       "      <td>Susan Browning</td>\n",
       "      <td>+1-268-364-8480</td>\n",
       "      <td>Male</td>\n",
       "      <td>1960-10-23</td>\n",
       "      <td>None</td>\n",
       "      <td>None</td>\n",
       "    </tr>\n",
       "    <tr>\n",
       "      <th>3</th>\n",
       "      <td>Jane Taylor</td>\n",
       "      <td>+1-141-414-1187</td>\n",
       "      <td>Male</td>\n",
       "      <td>1989-08-17</td>\n",
       "      <td>None</td>\n",
       "      <td>None</td>\n",
       "    </tr>\n",
       "    <tr>\n",
       "      <th>4</th>\n",
       "      <td>Fernando Brock</td>\n",
       "      <td>+1-705-848-7321</td>\n",
       "      <td>Female</td>\n",
       "      <td>1976-06-22</td>\n",
       "      <td>None</td>\n",
       "      <td>None</td>\n",
       "    </tr>\n",
       "  </tbody>\n",
       "</table>\n",
       "</div>"
      ],
      "text/plain": [
       "              name            phone  gender  date_birth file_id embedding_id\n",
       "0      Linda Miles  +1-506-468-2639    Male  1961-10-11    None         None\n",
       "1  Victor Williams  +1-600-654-8395  Female  1999-03-25    None         None\n",
       "2   Susan Browning  +1-268-364-8480    Male  1960-10-23    None         None\n",
       "3      Jane Taylor  +1-141-414-1187    Male  1989-08-17    None         None\n",
       "4   Fernando Brock  +1-705-848-7321  Female  1976-06-22    None         None"
      ]
     },
     "execution_count": 38,
     "metadata": {},
     "output_type": "execute_result"
    }
   ],
   "source": [
    "info_candidates_df.head()"
   ]
  },
  {
   "cell_type": "code",
   "execution_count": 39,
   "id": "54bd72ad-49a8-4cb5-8884-878622940284",
   "metadata": {},
   "outputs": [],
   "source": [
    "info_candidates_df['embedding_id'] = [index + 3 for index, f in enumerate(range(num_users))]"
   ]
  },
  {
   "cell_type": "code",
   "execution_count": 40,
   "id": "f76bd05d-7346-45f7-b008-5fe19aaf2864",
   "metadata": {},
   "outputs": [
    {
     "data": {
      "text/html": [
       "<div>\n",
       "<style scoped>\n",
       "    .dataframe tbody tr th:only-of-type {\n",
       "        vertical-align: middle;\n",
       "    }\n",
       "\n",
       "    .dataframe tbody tr th {\n",
       "        vertical-align: top;\n",
       "    }\n",
       "\n",
       "    .dataframe thead th {\n",
       "        text-align: right;\n",
       "    }\n",
       "</style>\n",
       "<table border=\"1\" class=\"dataframe\">\n",
       "  <thead>\n",
       "    <tr style=\"text-align: right;\">\n",
       "      <th></th>\n",
       "      <th>name</th>\n",
       "      <th>phone</th>\n",
       "      <th>gender</th>\n",
       "      <th>date_birth</th>\n",
       "      <th>file_id</th>\n",
       "      <th>embedding_id</th>\n",
       "    </tr>\n",
       "  </thead>\n",
       "  <tbody>\n",
       "    <tr>\n",
       "      <th>0</th>\n",
       "      <td>Linda Miles</td>\n",
       "      <td>+1-506-468-2639</td>\n",
       "      <td>Male</td>\n",
       "      <td>1961-10-11</td>\n",
       "      <td>None</td>\n",
       "      <td>3</td>\n",
       "    </tr>\n",
       "    <tr>\n",
       "      <th>1</th>\n",
       "      <td>Victor Williams</td>\n",
       "      <td>+1-600-654-8395</td>\n",
       "      <td>Female</td>\n",
       "      <td>1999-03-25</td>\n",
       "      <td>None</td>\n",
       "      <td>4</td>\n",
       "    </tr>\n",
       "    <tr>\n",
       "      <th>2</th>\n",
       "      <td>Susan Browning</td>\n",
       "      <td>+1-268-364-8480</td>\n",
       "      <td>Male</td>\n",
       "      <td>1960-10-23</td>\n",
       "      <td>None</td>\n",
       "      <td>5</td>\n",
       "    </tr>\n",
       "    <tr>\n",
       "      <th>3</th>\n",
       "      <td>Jane Taylor</td>\n",
       "      <td>+1-141-414-1187</td>\n",
       "      <td>Male</td>\n",
       "      <td>1989-08-17</td>\n",
       "      <td>None</td>\n",
       "      <td>6</td>\n",
       "    </tr>\n",
       "    <tr>\n",
       "      <th>4</th>\n",
       "      <td>Fernando Brock</td>\n",
       "      <td>+1-705-848-7321</td>\n",
       "      <td>Female</td>\n",
       "      <td>1976-06-22</td>\n",
       "      <td>None</td>\n",
       "      <td>7</td>\n",
       "    </tr>\n",
       "  </tbody>\n",
       "</table>\n",
       "</div>"
      ],
      "text/plain": [
       "              name            phone  gender  date_birth file_id  embedding_id\n",
       "0      Linda Miles  +1-506-468-2639    Male  1961-10-11    None             3\n",
       "1  Victor Williams  +1-600-654-8395  Female  1999-03-25    None             4\n",
       "2   Susan Browning  +1-268-364-8480    Male  1960-10-23    None             5\n",
       "3      Jane Taylor  +1-141-414-1187    Male  1989-08-17    None             6\n",
       "4   Fernando Brock  +1-705-848-7321  Female  1976-06-22    None             7"
      ]
     },
     "execution_count": 40,
     "metadata": {},
     "output_type": "execute_result"
    }
   ],
   "source": [
    "info_candidates_df.head()"
   ]
  },
  {
   "cell_type": "code",
   "execution_count": 41,
   "id": "d6cf690c-c70a-4d09-8c52-f80aa4f611a9",
   "metadata": {},
   "outputs": [
    {
     "data": {
      "text/plain": [
       "8000"
      ]
     },
     "execution_count": 41,
     "metadata": {},
     "output_type": "execute_result"
    }
   ],
   "source": [
    "len(info_candidates_df)"
   ]
  },
  {
   "cell_type": "code",
   "execution_count": 42,
   "id": "b1f2bfa3-3540-48c0-82c4-8d8bf7a17382",
   "metadata": {},
   "outputs": [],
   "source": [
    "# Путь к директории с файлами embeddings\n",
    "path_to_files = '/home/user1/HireSnap/data/tables/files.csv'\n",
    "# Получаем список всех файлов с расширением .npy\n",
    "files = pd.read_csv(path_to_files)"
   ]
  },
  {
   "cell_type": "code",
   "execution_count": 43,
   "id": "686cac1d-771e-4299-a01f-01b4023a3545",
   "metadata": {},
   "outputs": [
    {
     "data": {
      "text/html": [
       "<div>\n",
       "<style scoped>\n",
       "    .dataframe tbody tr th:only-of-type {\n",
       "        vertical-align: middle;\n",
       "    }\n",
       "\n",
       "    .dataframe tbody tr th {\n",
       "        vertical-align: top;\n",
       "    }\n",
       "\n",
       "    .dataframe thead th {\n",
       "        text-align: right;\n",
       "    }\n",
       "</style>\n",
       "<table border=\"1\" class=\"dataframe\">\n",
       "  <thead>\n",
       "    <tr style=\"text-align: right;\">\n",
       "      <th></th>\n",
       "      <th>url</th>\n",
       "    </tr>\n",
       "  </thead>\n",
       "  <tbody>\n",
       "    <tr>\n",
       "      <th>0</th>\n",
       "      <td>./data/files/5.mp4</td>\n",
       "    </tr>\n",
       "    <tr>\n",
       "      <th>1</th>\n",
       "      <td>./data/files/6.mp4</td>\n",
       "    </tr>\n",
       "    <tr>\n",
       "      <th>2</th>\n",
       "      <td>./data/files/7.mp4</td>\n",
       "    </tr>\n",
       "    <tr>\n",
       "      <th>3</th>\n",
       "      <td>./data/files/8.mp4</td>\n",
       "    </tr>\n",
       "    <tr>\n",
       "      <th>4</th>\n",
       "      <td>./data/files/9.mp4</td>\n",
       "    </tr>\n",
       "  </tbody>\n",
       "</table>\n",
       "</div>"
      ],
      "text/plain": [
       "                  url\n",
       "0  ./data/files/5.mp4\n",
       "1  ./data/files/6.mp4\n",
       "2  ./data/files/7.mp4\n",
       "3  ./data/files/8.mp4\n",
       "4  ./data/files/9.mp4"
      ]
     },
     "execution_count": 43,
     "metadata": {},
     "output_type": "execute_result"
    }
   ],
   "source": [
    "files.head()"
   ]
  },
  {
   "cell_type": "code",
   "execution_count": 44,
   "id": "60ecd2bc-3264-4ef3-a056-9eab3e415dde",
   "metadata": {},
   "outputs": [
    {
     "ename": "KeyError",
     "evalue": "'Unnamed: 0'",
     "output_type": "error",
     "traceback": [
      "\u001b[0;31m---------------------------------------------------------------------------\u001b[0m",
      "\u001b[0;31mKeyError\u001b[0m                                  Traceback (most recent call last)",
      "File \u001b[0;32m~/HireSnap/venv/lib/python3.10/site-packages/pandas/core/indexes/base.py:3805\u001b[0m, in \u001b[0;36mIndex.get_loc\u001b[0;34m(self, key)\u001b[0m\n\u001b[1;32m   3804\u001b[0m \u001b[38;5;28;01mtry\u001b[39;00m:\n\u001b[0;32m-> 3805\u001b[0m     \u001b[38;5;28;01mreturn\u001b[39;00m \u001b[38;5;28;43mself\u001b[39;49m\u001b[38;5;241;43m.\u001b[39;49m\u001b[43m_engine\u001b[49m\u001b[38;5;241;43m.\u001b[39;49m\u001b[43mget_loc\u001b[49m\u001b[43m(\u001b[49m\u001b[43mcasted_key\u001b[49m\u001b[43m)\u001b[49m\n\u001b[1;32m   3806\u001b[0m \u001b[38;5;28;01mexcept\u001b[39;00m \u001b[38;5;167;01mKeyError\u001b[39;00m \u001b[38;5;28;01mas\u001b[39;00m err:\n",
      "File \u001b[0;32mindex.pyx:167\u001b[0m, in \u001b[0;36mpandas._libs.index.IndexEngine.get_loc\u001b[0;34m()\u001b[0m\n",
      "File \u001b[0;32mindex.pyx:196\u001b[0m, in \u001b[0;36mpandas._libs.index.IndexEngine.get_loc\u001b[0;34m()\u001b[0m\n",
      "File \u001b[0;32mpandas/_libs/hashtable_class_helper.pxi:7081\u001b[0m, in \u001b[0;36mpandas._libs.hashtable.PyObjectHashTable.get_item\u001b[0;34m()\u001b[0m\n",
      "File \u001b[0;32mpandas/_libs/hashtable_class_helper.pxi:7089\u001b[0m, in \u001b[0;36mpandas._libs.hashtable.PyObjectHashTable.get_item\u001b[0;34m()\u001b[0m\n",
      "\u001b[0;31mKeyError\u001b[0m: 'Unnamed: 0'",
      "\nThe above exception was the direct cause of the following exception:\n",
      "\u001b[0;31mKeyError\u001b[0m                                  Traceback (most recent call last)",
      "Cell \u001b[0;32mIn[44], line 1\u001b[0m\n\u001b[0;32m----> 1\u001b[0m info_candidates_df[\u001b[38;5;124m'\u001b[39m\u001b[38;5;124mfile_id\u001b[39m\u001b[38;5;124m'\u001b[39m] \u001b[38;5;241m=\u001b[39m \u001b[43mfiles\u001b[49m\u001b[43m[\u001b[49m\u001b[38;5;124;43m'\u001b[39;49m\u001b[38;5;124;43mUnnamed: 0\u001b[39;49m\u001b[38;5;124;43m'\u001b[39;49m\u001b[43m]\u001b[49m\n",
      "File \u001b[0;32m~/HireSnap/venv/lib/python3.10/site-packages/pandas/core/frame.py:4102\u001b[0m, in \u001b[0;36mDataFrame.__getitem__\u001b[0;34m(self, key)\u001b[0m\n\u001b[1;32m   4100\u001b[0m \u001b[38;5;28;01mif\u001b[39;00m \u001b[38;5;28mself\u001b[39m\u001b[38;5;241m.\u001b[39mcolumns\u001b[38;5;241m.\u001b[39mnlevels \u001b[38;5;241m>\u001b[39m \u001b[38;5;241m1\u001b[39m:\n\u001b[1;32m   4101\u001b[0m     \u001b[38;5;28;01mreturn\u001b[39;00m \u001b[38;5;28mself\u001b[39m\u001b[38;5;241m.\u001b[39m_getitem_multilevel(key)\n\u001b[0;32m-> 4102\u001b[0m indexer \u001b[38;5;241m=\u001b[39m \u001b[38;5;28;43mself\u001b[39;49m\u001b[38;5;241;43m.\u001b[39;49m\u001b[43mcolumns\u001b[49m\u001b[38;5;241;43m.\u001b[39;49m\u001b[43mget_loc\u001b[49m\u001b[43m(\u001b[49m\u001b[43mkey\u001b[49m\u001b[43m)\u001b[49m\n\u001b[1;32m   4103\u001b[0m \u001b[38;5;28;01mif\u001b[39;00m is_integer(indexer):\n\u001b[1;32m   4104\u001b[0m     indexer \u001b[38;5;241m=\u001b[39m [indexer]\n",
      "File \u001b[0;32m~/HireSnap/venv/lib/python3.10/site-packages/pandas/core/indexes/base.py:3812\u001b[0m, in \u001b[0;36mIndex.get_loc\u001b[0;34m(self, key)\u001b[0m\n\u001b[1;32m   3807\u001b[0m     \u001b[38;5;28;01mif\u001b[39;00m \u001b[38;5;28misinstance\u001b[39m(casted_key, \u001b[38;5;28mslice\u001b[39m) \u001b[38;5;129;01mor\u001b[39;00m (\n\u001b[1;32m   3808\u001b[0m         \u001b[38;5;28misinstance\u001b[39m(casted_key, abc\u001b[38;5;241m.\u001b[39mIterable)\n\u001b[1;32m   3809\u001b[0m         \u001b[38;5;129;01mand\u001b[39;00m \u001b[38;5;28many\u001b[39m(\u001b[38;5;28misinstance\u001b[39m(x, \u001b[38;5;28mslice\u001b[39m) \u001b[38;5;28;01mfor\u001b[39;00m x \u001b[38;5;129;01min\u001b[39;00m casted_key)\n\u001b[1;32m   3810\u001b[0m     ):\n\u001b[1;32m   3811\u001b[0m         \u001b[38;5;28;01mraise\u001b[39;00m InvalidIndexError(key)\n\u001b[0;32m-> 3812\u001b[0m     \u001b[38;5;28;01mraise\u001b[39;00m \u001b[38;5;167;01mKeyError\u001b[39;00m(key) \u001b[38;5;28;01mfrom\u001b[39;00m \u001b[38;5;21;01merr\u001b[39;00m\n\u001b[1;32m   3813\u001b[0m \u001b[38;5;28;01mexcept\u001b[39;00m \u001b[38;5;167;01mTypeError\u001b[39;00m:\n\u001b[1;32m   3814\u001b[0m     \u001b[38;5;66;03m# If we have a listlike key, _check_indexing_error will raise\u001b[39;00m\n\u001b[1;32m   3815\u001b[0m     \u001b[38;5;66;03m#  InvalidIndexError. Otherwise we fall through and re-raise\u001b[39;00m\n\u001b[1;32m   3816\u001b[0m     \u001b[38;5;66;03m#  the TypeError.\u001b[39;00m\n\u001b[1;32m   3817\u001b[0m     \u001b[38;5;28mself\u001b[39m\u001b[38;5;241m.\u001b[39m_check_indexing_error(key)\n",
      "\u001b[0;31mKeyError\u001b[0m: 'Unnamed: 0'"
     ]
    }
   ],
   "source": [
    "info_candidates_df['file_id'] = files['Unnamed: 0']"
   ]
  },
  {
   "cell_type": "code",
   "execution_count": 45,
   "id": "3f91c244-d79e-464f-a395-4b1f17c036a0",
   "metadata": {},
   "outputs": [
    {
     "data": {
      "text/html": [
       "<div>\n",
       "<style scoped>\n",
       "    .dataframe tbody tr th:only-of-type {\n",
       "        vertical-align: middle;\n",
       "    }\n",
       "\n",
       "    .dataframe tbody tr th {\n",
       "        vertical-align: top;\n",
       "    }\n",
       "\n",
       "    .dataframe thead th {\n",
       "        text-align: right;\n",
       "    }\n",
       "</style>\n",
       "<table border=\"1\" class=\"dataframe\">\n",
       "  <thead>\n",
       "    <tr style=\"text-align: right;\">\n",
       "      <th></th>\n",
       "      <th>name</th>\n",
       "      <th>phone</th>\n",
       "      <th>gender</th>\n",
       "      <th>date_birth</th>\n",
       "      <th>file_id</th>\n",
       "      <th>embedding_id</th>\n",
       "    </tr>\n",
       "  </thead>\n",
       "  <tbody>\n",
       "    <tr>\n",
       "      <th>0</th>\n",
       "      <td>Linda Miles</td>\n",
       "      <td>+1-506-468-2639</td>\n",
       "      <td>Male</td>\n",
       "      <td>1961-10-11</td>\n",
       "      <td>None</td>\n",
       "      <td>3</td>\n",
       "    </tr>\n",
       "    <tr>\n",
       "      <th>1</th>\n",
       "      <td>Victor Williams</td>\n",
       "      <td>+1-600-654-8395</td>\n",
       "      <td>Female</td>\n",
       "      <td>1999-03-25</td>\n",
       "      <td>None</td>\n",
       "      <td>4</td>\n",
       "    </tr>\n",
       "    <tr>\n",
       "      <th>2</th>\n",
       "      <td>Susan Browning</td>\n",
       "      <td>+1-268-364-8480</td>\n",
       "      <td>Male</td>\n",
       "      <td>1960-10-23</td>\n",
       "      <td>None</td>\n",
       "      <td>5</td>\n",
       "    </tr>\n",
       "    <tr>\n",
       "      <th>3</th>\n",
       "      <td>Jane Taylor</td>\n",
       "      <td>+1-141-414-1187</td>\n",
       "      <td>Male</td>\n",
       "      <td>1989-08-17</td>\n",
       "      <td>None</td>\n",
       "      <td>6</td>\n",
       "    </tr>\n",
       "    <tr>\n",
       "      <th>4</th>\n",
       "      <td>Fernando Brock</td>\n",
       "      <td>+1-705-848-7321</td>\n",
       "      <td>Female</td>\n",
       "      <td>1976-06-22</td>\n",
       "      <td>None</td>\n",
       "      <td>7</td>\n",
       "    </tr>\n",
       "  </tbody>\n",
       "</table>\n",
       "</div>"
      ],
      "text/plain": [
       "              name            phone  gender  date_birth file_id  embedding_id\n",
       "0      Linda Miles  +1-506-468-2639    Male  1961-10-11    None             3\n",
       "1  Victor Williams  +1-600-654-8395  Female  1999-03-25    None             4\n",
       "2   Susan Browning  +1-268-364-8480    Male  1960-10-23    None             5\n",
       "3      Jane Taylor  +1-141-414-1187    Male  1989-08-17    None             6\n",
       "4   Fernando Brock  +1-705-848-7321  Female  1976-06-22    None             7"
      ]
     },
     "execution_count": 45,
     "metadata": {},
     "output_type": "execute_result"
    }
   ],
   "source": [
    "info_candidates_df.head()"
   ]
  },
  {
   "cell_type": "code",
   "execution_count": 46,
   "id": "e93981b1-a9a5-42dc-bc72-62299ace7fa1",
   "metadata": {},
   "outputs": [],
   "source": [
    "info_candidates_df = info_candidates_df.replace({pd.NA: None, np.nan: None})\n",
    "info_candidates_df['id'] = [int(p) for p in range(len(info_candidates_df))] "
   ]
  },
  {
   "cell_type": "code",
   "execution_count": 47,
   "id": "5f852904-1b3f-4efa-836b-f3ab0cab8951",
   "metadata": {},
   "outputs": [],
   "source": [
    "info_candidates_df.to_csv('../../data/tables/info_candidates.csv')"
   ]
  },
  {
   "cell_type": "code",
   "execution_count": null,
   "id": "35a2eb38-e66d-4acd-ae2e-2e6ec1368044",
   "metadata": {},
   "outputs": [],
   "source": []
  },
  {
   "cell_type": "code",
   "execution_count": null,
   "id": "604b6e31-cef2-43e7-8892-3f1840ad540b",
   "metadata": {},
   "outputs": [],
   "source": []
  }
 ],
 "metadata": {
  "kernelspec": {
   "display_name": "Python 3 (ipykernel)",
   "language": "python",
   "name": "python3"
  },
  "language_info": {
   "codemirror_mode": {
    "name": "ipython",
    "version": 3
   },
   "file_extension": ".py",
   "mimetype": "text/x-python",
   "name": "python",
   "nbconvert_exporter": "python",
   "pygments_lexer": "ipython3",
   "version": "3.10.12"
  }
 },
 "nbformat": 4,
 "nbformat_minor": 5
}
