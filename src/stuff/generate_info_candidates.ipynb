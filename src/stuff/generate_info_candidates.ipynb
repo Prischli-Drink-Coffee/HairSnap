{
 "cells": [
  {
   "cell_type": "markdown",
   "id": "79734ced-81b3-4c6b-9ea8-62d68a86abb9",
   "metadata": {},
   "source": [
    "### Создаем синтетические данные для заполнения базы данных"
   ]
  },
  {
   "cell_type": "code",
   "execution_count": 187,
   "id": "4b87bc8a-b3c8-4377-b3dc-b39eee53d5b3",
   "metadata": {},
   "outputs": [
    {
     "data": {
      "text/plain": [
       "'/home/user1/HireSnap/src/stuff'"
      ]
     },
     "execution_count": 187,
     "metadata": {},
     "output_type": "execute_result"
    }
   ],
   "source": [
    "import pandas as pd\n",
    "import os\n",
    "from faker import Faker\n",
    "from datetime import datetime\n",
    "import random\n",
    "import pickle\n",
    "import numpy as np\n",
    "os.getcwd()"
   ]
  },
  {
   "cell_type": "code",
   "execution_count": 188,
   "id": "46b78e2e-5c0b-4477-8a14-c19e2ae55b48",
   "metadata": {},
   "outputs": [],
   "source": [
    "# Инициализация генератора данных с указанием локали для английского языка\n",
    "fake = Faker(\"en_US\")"
   ]
  },
  {
   "cell_type": "code",
   "execution_count": 189,
   "id": "d79c492c-8801-4380-b0ce-2ae28e80dd82",
   "metadata": {},
   "outputs": [],
   "source": [
    "def custom_phone_number():\n",
    "    return f\"+1-{random.randint(100, 999)}-{random.randint(100, 999)}-{random.randint(1000, 9999)}\""
   ]
  },
  {
   "cell_type": "code",
   "execution_count": 190,
   "id": "16e43cb9-3f42-4b85-8aa2-5b4c7365fa49",
   "metadata": {},
   "outputs": [],
   "source": [
    "def custom_name():\n",
    "    return f\"{fake.first_name()} {fake.last_name()}\""
   ]
  },
  {
   "cell_type": "code",
   "execution_count": 191,
   "id": "46e136ab-4267-49fe-b08b-785166718149",
   "metadata": {},
   "outputs": [],
   "source": [
    "# Путь к директории с файлами embeddings\n",
    "path_to_embedding_users = '/home/user1/HireSnap/data/tables/embeddings.csv'"
   ]
  },
  {
   "cell_type": "code",
   "execution_count": 192,
   "id": "7283b4d9-9563-4004-b4d1-cd90f7a364f5",
   "metadata": {},
   "outputs": [],
   "source": [
    "# Получаем список всех файлов с расширением .npy\n",
    "embeddings = pd.read_csv(path_to_embedding_users)"
   ]
  },
  {
   "cell_type": "code",
   "execution_count": 193,
   "id": "8673c2d3-2b81-413f-8b16-f2c842b9d5be",
   "metadata": {},
   "outputs": [
    {
     "data": {
      "text/plain": [
       "10284"
      ]
     },
     "execution_count": 193,
     "metadata": {},
     "output_type": "execute_result"
    }
   ],
   "source": [
    "len(embeddings)"
   ]
  },
  {
   "cell_type": "code",
   "execution_count": 194,
   "id": "839a3ba3-2e61-4e7c-8504-aa2aced99b30",
   "metadata": {},
   "outputs": [
    {
     "data": {
      "text/html": [
       "<div>\n",
       "<style scoped>\n",
       "    .dataframe tbody tr th:only-of-type {\n",
       "        vertical-align: middle;\n",
       "    }\n",
       "\n",
       "    .dataframe tbody tr th {\n",
       "        vertical-align: top;\n",
       "    }\n",
       "\n",
       "    .dataframe thead th {\n",
       "        text-align: right;\n",
       "    }\n",
       "</style>\n",
       "<table border=\"1\" class=\"dataframe\">\n",
       "  <thead>\n",
       "    <tr style=\"text-align: right;\">\n",
       "      <th></th>\n",
       "      <th>Unnamed: 0</th>\n",
       "      <th>url</th>\n",
       "    </tr>\n",
       "  </thead>\n",
       "  <tbody>\n",
       "    <tr>\n",
       "      <th>0</th>\n",
       "      <td>0</td>\n",
       "      <td>./data/embeddings/personalities/17.npy</td>\n",
       "    </tr>\n",
       "    <tr>\n",
       "      <th>1</th>\n",
       "      <td>1</td>\n",
       "      <td>./data/embeddings/personalities/18.npy</td>\n",
       "    </tr>\n",
       "    <tr>\n",
       "      <th>2</th>\n",
       "      <td>2</td>\n",
       "      <td>./data/embeddings/personalities/19.npy</td>\n",
       "    </tr>\n",
       "    <tr>\n",
       "      <th>3</th>\n",
       "      <td>3</td>\n",
       "      <td>./data/embeddings/personalities/20.npy</td>\n",
       "    </tr>\n",
       "    <tr>\n",
       "      <th>4</th>\n",
       "      <td>4</td>\n",
       "      <td>./data/embeddings/personalities/21.npy</td>\n",
       "    </tr>\n",
       "  </tbody>\n",
       "</table>\n",
       "</div>"
      ],
      "text/plain": [
       "   Unnamed: 0                                     url\n",
       "0           0  ./data/embeddings/personalities/17.npy\n",
       "1           1  ./data/embeddings/personalities/18.npy\n",
       "2           2  ./data/embeddings/personalities/19.npy\n",
       "3           3  ./data/embeddings/personalities/20.npy\n",
       "4           4  ./data/embeddings/personalities/21.npy"
      ]
     },
     "execution_count": 194,
     "metadata": {},
     "output_type": "execute_result"
    }
   ],
   "source": [
    "embeddings.head()"
   ]
  },
  {
   "cell_type": "code",
   "execution_count": 195,
   "id": "9ff7988d-4c1e-4c64-af6a-4bcd8eb6a93d",
   "metadata": {},
   "outputs": [
    {
     "name": "stdout",
     "output_type": "stream",
     "text": [
      "              name            phone  gender  data_birth file_id embedding_id\n",
      "0  Zachary Hawkins  +1-712-820-4122  Female  2004-11-08    None         None\n",
      "1      Katie Smith  +1-303-814-1819    Male  1970-12-02    None         None\n",
      "2  Whitney Vincent  +1-796-655-7368    Male  1977-02-24    None         None\n",
      "3     Mark Hawkins  +1-203-263-4015  Female  1978-06-01    None         None\n",
      "4      Tyler Smith  +1-220-796-8350  Female  1997-12-09    None         None\n"
     ]
    }
   ],
   "source": [
    "# Создание DataFrame с требуемыми значениями\n",
    "info_candidates_df = pd.DataFrame({\n",
    "    \"name\": [str(custom_name()) for _ in range(num_users)],\n",
    "    \"phone\": [str(custom_phone_number()) for _ in range(num_users)],\n",
    "    \"gender\": [str(random.choice([\"Male\", \"Female\"])) for _ in range(num_users)],  # Случайное значение для гендера\n",
    "    \"data_birth\": [f\"{fake.date_of_birth(minimum_age=18, maximum_age=65)}\" for _ in range(num_users)],  # Случайная дата рождения\n",
    "    \"file_id\": [None] * num_users,\n",
    "    \"embedding_id\": [None] * num_users\n",
    "})\n",
    "\n",
    "# Выводим первые несколько строк DataFrame для проверки\n",
    "print(info_candidates_df.head())"
   ]
  },
  {
   "cell_type": "code",
   "execution_count": 196,
   "id": "a8652298-a259-4997-b04b-1ea4951268e3",
   "metadata": {},
   "outputs": [
    {
     "data": {
      "text/html": [
       "<div>\n",
       "<style scoped>\n",
       "    .dataframe tbody tr th:only-of-type {\n",
       "        vertical-align: middle;\n",
       "    }\n",
       "\n",
       "    .dataframe tbody tr th {\n",
       "        vertical-align: top;\n",
       "    }\n",
       "\n",
       "    .dataframe thead th {\n",
       "        text-align: right;\n",
       "    }\n",
       "</style>\n",
       "<table border=\"1\" class=\"dataframe\">\n",
       "  <thead>\n",
       "    <tr style=\"text-align: right;\">\n",
       "      <th></th>\n",
       "      <th>name</th>\n",
       "      <th>phone</th>\n",
       "      <th>gender</th>\n",
       "      <th>data_birth</th>\n",
       "      <th>file_id</th>\n",
       "      <th>embedding_id</th>\n",
       "    </tr>\n",
       "  </thead>\n",
       "  <tbody>\n",
       "    <tr>\n",
       "      <th>0</th>\n",
       "      <td>Zachary Hawkins</td>\n",
       "      <td>+1-712-820-4122</td>\n",
       "      <td>Female</td>\n",
       "      <td>2004-11-08</td>\n",
       "      <td>None</td>\n",
       "      <td>None</td>\n",
       "    </tr>\n",
       "    <tr>\n",
       "      <th>1</th>\n",
       "      <td>Katie Smith</td>\n",
       "      <td>+1-303-814-1819</td>\n",
       "      <td>Male</td>\n",
       "      <td>1970-12-02</td>\n",
       "      <td>None</td>\n",
       "      <td>None</td>\n",
       "    </tr>\n",
       "    <tr>\n",
       "      <th>2</th>\n",
       "      <td>Whitney Vincent</td>\n",
       "      <td>+1-796-655-7368</td>\n",
       "      <td>Male</td>\n",
       "      <td>1977-02-24</td>\n",
       "      <td>None</td>\n",
       "      <td>None</td>\n",
       "    </tr>\n",
       "    <tr>\n",
       "      <th>3</th>\n",
       "      <td>Mark Hawkins</td>\n",
       "      <td>+1-203-263-4015</td>\n",
       "      <td>Female</td>\n",
       "      <td>1978-06-01</td>\n",
       "      <td>None</td>\n",
       "      <td>None</td>\n",
       "    </tr>\n",
       "    <tr>\n",
       "      <th>4</th>\n",
       "      <td>Tyler Smith</td>\n",
       "      <td>+1-220-796-8350</td>\n",
       "      <td>Female</td>\n",
       "      <td>1997-12-09</td>\n",
       "      <td>None</td>\n",
       "      <td>None</td>\n",
       "    </tr>\n",
       "  </tbody>\n",
       "</table>\n",
       "</div>"
      ],
      "text/plain": [
       "              name            phone  gender  data_birth file_id embedding_id\n",
       "0  Zachary Hawkins  +1-712-820-4122  Female  2004-11-08    None         None\n",
       "1      Katie Smith  +1-303-814-1819    Male  1970-12-02    None         None\n",
       "2  Whitney Vincent  +1-796-655-7368    Male  1977-02-24    None         None\n",
       "3     Mark Hawkins  +1-203-263-4015  Female  1978-06-01    None         None\n",
       "4      Tyler Smith  +1-220-796-8350  Female  1997-12-09    None         None"
      ]
     },
     "execution_count": 196,
     "metadata": {},
     "output_type": "execute_result"
    }
   ],
   "source": [
    "info_candidates_df.head()"
   ]
  },
  {
   "cell_type": "code",
   "execution_count": 197,
   "id": "54bd72ad-49a8-4cb5-8884-878622940284",
   "metadata": {},
   "outputs": [],
   "source": [
    "info_candidates_df['embedding_id'] = [index + 3 for index, f in enumerate(range(num_users))]"
   ]
  },
  {
   "cell_type": "code",
   "execution_count": 198,
   "id": "f76bd05d-7346-45f7-b008-5fe19aaf2864",
   "metadata": {},
   "outputs": [
    {
     "data": {
      "text/html": [
       "<div>\n",
       "<style scoped>\n",
       "    .dataframe tbody tr th:only-of-type {\n",
       "        vertical-align: middle;\n",
       "    }\n",
       "\n",
       "    .dataframe tbody tr th {\n",
       "        vertical-align: top;\n",
       "    }\n",
       "\n",
       "    .dataframe thead th {\n",
       "        text-align: right;\n",
       "    }\n",
       "</style>\n",
       "<table border=\"1\" class=\"dataframe\">\n",
       "  <thead>\n",
       "    <tr style=\"text-align: right;\">\n",
       "      <th></th>\n",
       "      <th>name</th>\n",
       "      <th>phone</th>\n",
       "      <th>gender</th>\n",
       "      <th>data_birth</th>\n",
       "      <th>file_id</th>\n",
       "      <th>embedding_id</th>\n",
       "    </tr>\n",
       "  </thead>\n",
       "  <tbody>\n",
       "    <tr>\n",
       "      <th>0</th>\n",
       "      <td>Zachary Hawkins</td>\n",
       "      <td>+1-712-820-4122</td>\n",
       "      <td>Female</td>\n",
       "      <td>2004-11-08</td>\n",
       "      <td>None</td>\n",
       "      <td>3</td>\n",
       "    </tr>\n",
       "    <tr>\n",
       "      <th>1</th>\n",
       "      <td>Katie Smith</td>\n",
       "      <td>+1-303-814-1819</td>\n",
       "      <td>Male</td>\n",
       "      <td>1970-12-02</td>\n",
       "      <td>None</td>\n",
       "      <td>4</td>\n",
       "    </tr>\n",
       "    <tr>\n",
       "      <th>2</th>\n",
       "      <td>Whitney Vincent</td>\n",
       "      <td>+1-796-655-7368</td>\n",
       "      <td>Male</td>\n",
       "      <td>1977-02-24</td>\n",
       "      <td>None</td>\n",
       "      <td>5</td>\n",
       "    </tr>\n",
       "    <tr>\n",
       "      <th>3</th>\n",
       "      <td>Mark Hawkins</td>\n",
       "      <td>+1-203-263-4015</td>\n",
       "      <td>Female</td>\n",
       "      <td>1978-06-01</td>\n",
       "      <td>None</td>\n",
       "      <td>6</td>\n",
       "    </tr>\n",
       "    <tr>\n",
       "      <th>4</th>\n",
       "      <td>Tyler Smith</td>\n",
       "      <td>+1-220-796-8350</td>\n",
       "      <td>Female</td>\n",
       "      <td>1997-12-09</td>\n",
       "      <td>None</td>\n",
       "      <td>7</td>\n",
       "    </tr>\n",
       "  </tbody>\n",
       "</table>\n",
       "</div>"
      ],
      "text/plain": [
       "              name            phone  gender  data_birth file_id  embedding_id\n",
       "0  Zachary Hawkins  +1-712-820-4122  Female  2004-11-08    None             3\n",
       "1      Katie Smith  +1-303-814-1819    Male  1970-12-02    None             4\n",
       "2  Whitney Vincent  +1-796-655-7368    Male  1977-02-24    None             5\n",
       "3     Mark Hawkins  +1-203-263-4015  Female  1978-06-01    None             6\n",
       "4      Tyler Smith  +1-220-796-8350  Female  1997-12-09    None             7"
      ]
     },
     "execution_count": 198,
     "metadata": {},
     "output_type": "execute_result"
    }
   ],
   "source": [
    "info_candidates_df.head()"
   ]
  },
  {
   "cell_type": "code",
   "execution_count": 199,
   "id": "d6cf690c-c70a-4d09-8c52-f80aa4f611a9",
   "metadata": {},
   "outputs": [
    {
     "data": {
      "text/plain": [
       "8000"
      ]
     },
     "execution_count": 199,
     "metadata": {},
     "output_type": "execute_result"
    }
   ],
   "source": [
    "len(info_candidates_df)"
   ]
  },
  {
   "cell_type": "code",
   "execution_count": 200,
   "id": "b1f2bfa3-3540-48c0-82c4-8d8bf7a17382",
   "metadata": {},
   "outputs": [],
   "source": [
    "# Путь к директории с файлами embeddings\n",
    "path_to_files = '/home/user1/HireSnap/data/tables/files.csv'\n",
    "# Получаем список всех файлов с расширением .npy\n",
    "files = pd.read_csv(path_to_files)"
   ]
  },
  {
   "cell_type": "code",
   "execution_count": 201,
   "id": "686cac1d-771e-4299-a01f-01b4023a3545",
   "metadata": {},
   "outputs": [
    {
     "data": {
      "text/html": [
       "<div>\n",
       "<style scoped>\n",
       "    .dataframe tbody tr th:only-of-type {\n",
       "        vertical-align: middle;\n",
       "    }\n",
       "\n",
       "    .dataframe tbody tr th {\n",
       "        vertical-align: top;\n",
       "    }\n",
       "\n",
       "    .dataframe thead th {\n",
       "        text-align: right;\n",
       "    }\n",
       "</style>\n",
       "<table border=\"1\" class=\"dataframe\">\n",
       "  <thead>\n",
       "    <tr style=\"text-align: right;\">\n",
       "      <th></th>\n",
       "      <th>Unnamed: 0</th>\n",
       "      <th>url</th>\n",
       "    </tr>\n",
       "  </thead>\n",
       "  <tbody>\n",
       "    <tr>\n",
       "      <th>0</th>\n",
       "      <td>0</td>\n",
       "      <td>./data/files/5.mp4</td>\n",
       "    </tr>\n",
       "    <tr>\n",
       "      <th>1</th>\n",
       "      <td>1</td>\n",
       "      <td>./data/files/6.mp4</td>\n",
       "    </tr>\n",
       "    <tr>\n",
       "      <th>2</th>\n",
       "      <td>2</td>\n",
       "      <td>./data/files/7.mp4</td>\n",
       "    </tr>\n",
       "    <tr>\n",
       "      <th>3</th>\n",
       "      <td>3</td>\n",
       "      <td>./data/files/8.mp4</td>\n",
       "    </tr>\n",
       "    <tr>\n",
       "      <th>4</th>\n",
       "      <td>4</td>\n",
       "      <td>./data/files/9.mp4</td>\n",
       "    </tr>\n",
       "  </tbody>\n",
       "</table>\n",
       "</div>"
      ],
      "text/plain": [
       "   Unnamed: 0                 url\n",
       "0           0  ./data/files/5.mp4\n",
       "1           1  ./data/files/6.mp4\n",
       "2           2  ./data/files/7.mp4\n",
       "3           3  ./data/files/8.mp4\n",
       "4           4  ./data/files/9.mp4"
      ]
     },
     "execution_count": 201,
     "metadata": {},
     "output_type": "execute_result"
    }
   ],
   "source": [
    "files.head()"
   ]
  },
  {
   "cell_type": "code",
   "execution_count": 202,
   "id": "60ecd2bc-3264-4ef3-a056-9eab3e415dde",
   "metadata": {},
   "outputs": [],
   "source": [
    "info_candidates_df['file_id'] = files['Unnamed: 0']"
   ]
  },
  {
   "cell_type": "code",
   "execution_count": 203,
   "id": "3f91c244-d79e-464f-a395-4b1f17c036a0",
   "metadata": {},
   "outputs": [
    {
     "data": {
      "text/html": [
       "<div>\n",
       "<style scoped>\n",
       "    .dataframe tbody tr th:only-of-type {\n",
       "        vertical-align: middle;\n",
       "    }\n",
       "\n",
       "    .dataframe tbody tr th {\n",
       "        vertical-align: top;\n",
       "    }\n",
       "\n",
       "    .dataframe thead th {\n",
       "        text-align: right;\n",
       "    }\n",
       "</style>\n",
       "<table border=\"1\" class=\"dataframe\">\n",
       "  <thead>\n",
       "    <tr style=\"text-align: right;\">\n",
       "      <th></th>\n",
       "      <th>name</th>\n",
       "      <th>phone</th>\n",
       "      <th>gender</th>\n",
       "      <th>data_birth</th>\n",
       "      <th>file_id</th>\n",
       "      <th>embedding_id</th>\n",
       "    </tr>\n",
       "  </thead>\n",
       "  <tbody>\n",
       "    <tr>\n",
       "      <th>0</th>\n",
       "      <td>Zachary Hawkins</td>\n",
       "      <td>+1-712-820-4122</td>\n",
       "      <td>Female</td>\n",
       "      <td>2004-11-08</td>\n",
       "      <td>0</td>\n",
       "      <td>3</td>\n",
       "    </tr>\n",
       "    <tr>\n",
       "      <th>1</th>\n",
       "      <td>Katie Smith</td>\n",
       "      <td>+1-303-814-1819</td>\n",
       "      <td>Male</td>\n",
       "      <td>1970-12-02</td>\n",
       "      <td>1</td>\n",
       "      <td>4</td>\n",
       "    </tr>\n",
       "    <tr>\n",
       "      <th>2</th>\n",
       "      <td>Whitney Vincent</td>\n",
       "      <td>+1-796-655-7368</td>\n",
       "      <td>Male</td>\n",
       "      <td>1977-02-24</td>\n",
       "      <td>2</td>\n",
       "      <td>5</td>\n",
       "    </tr>\n",
       "    <tr>\n",
       "      <th>3</th>\n",
       "      <td>Mark Hawkins</td>\n",
       "      <td>+1-203-263-4015</td>\n",
       "      <td>Female</td>\n",
       "      <td>1978-06-01</td>\n",
       "      <td>3</td>\n",
       "      <td>6</td>\n",
       "    </tr>\n",
       "    <tr>\n",
       "      <th>4</th>\n",
       "      <td>Tyler Smith</td>\n",
       "      <td>+1-220-796-8350</td>\n",
       "      <td>Female</td>\n",
       "      <td>1997-12-09</td>\n",
       "      <td>4</td>\n",
       "      <td>7</td>\n",
       "    </tr>\n",
       "  </tbody>\n",
       "</table>\n",
       "</div>"
      ],
      "text/plain": [
       "              name            phone  gender  data_birth  file_id  embedding_id\n",
       "0  Zachary Hawkins  +1-712-820-4122  Female  2004-11-08        0             3\n",
       "1      Katie Smith  +1-303-814-1819    Male  1970-12-02        1             4\n",
       "2  Whitney Vincent  +1-796-655-7368    Male  1977-02-24        2             5\n",
       "3     Mark Hawkins  +1-203-263-4015  Female  1978-06-01        3             6\n",
       "4      Tyler Smith  +1-220-796-8350  Female  1997-12-09        4             7"
      ]
     },
     "execution_count": 203,
     "metadata": {},
     "output_type": "execute_result"
    }
   ],
   "source": [
    "info_candidates_df.head()"
   ]
  },
  {
   "cell_type": "code",
   "execution_count": 204,
   "id": "5f852904-1b3f-4efa-836b-f3ab0cab8951",
   "metadata": {},
   "outputs": [],
   "source": [
    "info_candidates_df.to_csv('../../data/tables/indo_candidates.csv')"
   ]
  },
  {
   "cell_type": "code",
   "execution_count": null,
   "id": "97a98515-ec02-4e3b-956f-c580e69e859f",
   "metadata": {},
   "outputs": [],
   "source": []
  }
 ],
 "metadata": {
  "kernelspec": {
   "display_name": "Python 3 (ipykernel)",
   "language": "python",
   "name": "python3"
  },
  "language_info": {
   "codemirror_mode": {
    "name": "ipython",
    "version": 3
   },
   "file_extension": ".py",
   "mimetype": "text/x-python",
   "name": "python",
   "nbconvert_exporter": "python",
   "pygments_lexer": "ipython3",
   "version": "3.10.12"
  }
 },
 "nbformat": 4,
 "nbformat_minor": 5
}
