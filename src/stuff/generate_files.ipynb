{
 "cells": [
  {
   "cell_type": "markdown",
   "id": "43c5c97c-fef8-4188-9209-0fecca3bacbf",
   "metadata": {},
   "source": [
    "### Создаем таблицу files"
   ]
  },
  {
   "cell_type": "code",
   "execution_count": 4,
   "id": "b355d9fd-49b4-46aa-bcd0-869532be8601",
   "metadata": {},
   "outputs": [
    {
     "data": {
      "text/plain": [
       "'/home/user1/HireSnap/src/stuff'"
      ]
     },
     "execution_count": 4,
     "metadata": {},
     "output_type": "execute_result"
    }
   ],
   "source": [
    "import pandas as pd\n",
    "import os\n",
    "from faker import Faker\n",
    "from datetime import datetime\n",
    "import random\n",
    "import re\n",
    "os.getcwd()"
   ]
  },
  {
   "cell_type": "code",
   "execution_count": 6,
   "id": "38487f3e-db7d-4aa5-a542-42457e531aa5",
   "metadata": {},
   "outputs": [
    {
     "name": "stdout",
     "output_type": "stream",
     "text": [
      "                        url\n",
      "0        ./data/files/5.mp4\n",
      "1        ./data/files/6.mp4\n",
      "2        ./data/files/7.mp4\n",
      "3        ./data/files/8.mp4\n",
      "4        ./data/files/9.mp4\n",
      "...                     ...\n",
      "7995  ./data/files/8000.mp4\n",
      "7996  ./data/files/8001.mp4\n",
      "7997  ./data/files/8002.mp4\n",
      "7998  ./data/files/8003.mp4\n",
      "7999  ./data/files/8004.mp4\n",
      "\n",
      "[8000 rows x 1 columns]\n"
     ]
    }
   ],
   "source": [
    "import os\n",
    "import pandas as pd\n",
    "\n",
    "# Указываем базовую директорию и поддиректории для обработки\n",
    "base_directory = '../../data/files'\n",
    "p = './data/files'\n",
    "\n",
    "# Полный путь к папке\n",
    "full_path = os.path.join(base_directory)\n",
    "\n",
    "# Собираем список файлов в директории с учетом типа сортировки\n",
    "files = os.listdir(full_path)\n",
    "\n",
    "# Если сортировка числовая, то сортируем по числовым значениям в названии\n",
    "files = sorted(files, key=lambda x: int(re.search(r'\\d+', x).group()) if re.search(r'\\d+', x) else 0)\n",
    "\n",
    "urls = []\n",
    "# Формируем URL для каждого файла и добавляем в список\n",
    "for file in files:\n",
    "    file_url = os.path.join(p, file)\n",
    "    urls.append(file_url)\n",
    "\n",
    "# Создаем DataFrame с сохранением порядка\n",
    "files_df = pd.DataFrame(urls, columns=['url'])\n",
    "\n",
    "# Выводим результат (пример, можно настроить по необходимости)\n",
    "print(files_df)\n"
   ]
  },
  {
   "cell_type": "code",
   "execution_count": 7,
   "id": "69fba463-15dd-4b1e-a1c2-6cf698c7cc74",
   "metadata": {},
   "outputs": [],
   "source": [
    "files_df.to_csv('../../data/tables/files.csv')"
   ]
  },
  {
   "cell_type": "code",
   "execution_count": null,
   "id": "511f7aec-3872-4291-9505-d95bfe88d042",
   "metadata": {},
   "outputs": [],
   "source": []
  }
 ],
 "metadata": {
  "kernelspec": {
   "display_name": "Python 3 (ipykernel)",
   "language": "python",
   "name": "python3"
  },
  "language_info": {
   "codemirror_mode": {
    "name": "ipython",
    "version": 3
   },
   "file_extension": ".py",
   "mimetype": "text/x-python",
   "name": "python",
   "nbconvert_exporter": "python",
   "pygments_lexer": "ipython3",
   "version": "3.10.12"
  }
 },
 "nbformat": 4,
 "nbformat_minor": 5
}
